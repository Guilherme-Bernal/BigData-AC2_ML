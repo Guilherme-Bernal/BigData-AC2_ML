{
 "cells": [
  {
   "cell_type": "markdown",
   "metadata": {},
   "source": [
    "# Libs"
   ]
  },
  {
   "cell_type": "code",
   "execution_count": 1,
   "metadata": {
    "id": "qHl53EsyH7x1"
   },
   "outputs": [],
   "source": [
    "from pyspark.sql import SparkSession\n",
    "from pyspark.sql.functions import isnan, when, count, col\n",
    "from pyspark.sql.types import StructType, StructField, StringType, IntegerType\n",
    "\n",
    "# from pyspark.ml.feature import VectorAssembler\n",
    "# from pyspark.ml.classification import RandomForestClassifier\n",
    "# from pyspark.ml import Pipeline\n",
    "# from pyspark.ml.evaluation import MulticlassClassificationEvaluator\n",
    "\n",
    "import numpy as np\n",
    "import matplotlib.pyplot as plt\n",
    "import os\n",
    "\n",
    "from collections import OrderedDict"
   ]
  },
  {
   "cell_type": "code",
   "execution_count": 2,
   "metadata": {
    "id": "ldBkRBEJIVBx"
   },
   "outputs": [],
   "source": [
    "spark = SparkSession.builder.appName(\"Ac2 Big Data\").getOrCreate()"
   ]
  },
  {
   "cell_type": "markdown",
   "metadata": {},
   "source": [
    "# Paths #"
   ]
  },
  {
   "cell_type": "code",
   "execution_count": 3,
   "metadata": {
    "id": "bG6h3NS9FUw6"
   },
   "outputs": [],
   "source": [
    "#Path\n",
    "\n",
    "anime_dataset_path = \"data/anime-dataset-2023.csv\"\n",
    "anime_filtered_path = \"data/anime-filtered.csv\"\n",
    "final_animedataset_path = \"data/final_animedataset.csv\"\n",
    "\n",
    "user_filtered_path = \"data/user-filtered.csv\"\n",
    "users_details_path = \"data/users-details-2023.csv\"\n",
    "users_score_path = \"data/users-score-2023.csv\""
   ]
  },
  {
   "cell_type": "markdown",
   "metadata": {
    "id": "SZ81FguVE0fD",
    "jp-MarkdownHeadingCollapsed": true
   },
   "source": [
    "# Infos about Datasets"
   ]
  },
  {
   "cell_type": "markdown",
   "metadata": {},
   "source": [
    "## Datas sizes ##"
   ]
  },
  {
   "cell_type": "code",
   "execution_count": 4,
   "metadata": {
    "colab": {
     "base_uri": "https://localhost:8080/"
    },
    "id": "cUd4YWjNDQav",
    "outputId": "3cbf8c58-c670-49c7-db9d-2a5f609dd0d3"
   },
   "outputs": [
    {
     "name": "stdout",
     "output_type": "stream",
     "text": [
      "anime-dataset-2023 -  0.015 GB\n",
      "anime-filtered -      0.009 GB\n",
      "final_animedataset -  4.237 GB\n",
      "user-filtered -       1.439 GB\n",
      "users-details-2023 -  0.069 GB\n",
      "users-score-2023 -    1.078 GB\n"
     ]
    }
   ],
   "source": [
    "#Files sizes bytes to gb\n",
    "\n",
    "print(f\"anime-dataset-2023 -  {os.path.getsize(anime_dataset_path)/1024**3:.3f} GB\")\n",
    "print(f\"anime-filtered -      {os.path.getsize(anime_filtered_path)/1024**3:.3f} GB\")\n",
    "print(f\"final_animedataset -  {os.path.getsize(final_animedataset_path)/1024**3:.3f} GB\")\n",
    "\n",
    "print(f\"user-filtered -       {os.path.getsize(user_filtered_path)/1024**3:.3f} GB\")\n",
    "print(f\"users-details-2023 -  {os.path.getsize(users_details_path)/1024**3:.3f} GB\")\n",
    "print(f\"users-score-2023 -    {os.path.getsize(users_score_path)/1024**3:.3f} GB\")"
   ]
  },
  {
   "cell_type": "markdown",
   "metadata": {},
   "source": [
    "## Features description ##"
   ]
  },
  {
   "cell_type": "code",
   "execution_count": 5,
   "metadata": {
    "colab": {
     "base_uri": "https://localhost:8080/",
     "height": 250
    },
    "id": "ZvVr8bkJIbyg",
    "outputId": "ca097ca1-3de0-494f-9d57-59178dab2e10"
   },
   "outputs": [
    {
     "data": {
      "text/plain": [
       "\"\\nanime_id\\nUnique ID for each anime.\\n\\n\\nName\\nThe name of the anime in its original language.\\n\\n\\nEnglish name\\nThe English name of the anime.\\n\\n\\nOther name\\nOther names or titles of the anime in different languages.\\n\\n\\nScore\\nThe score or rating given to the anime.\\n\\n\\nGenres\\nThe genres of the anime, separated by commas.\\n\\n\\nSynopsis\\nA brief description or summary of the anime's plot.\\n\\n\\nType\\nThe type of the anime (e.g., TV series, movie, OVA, etc.).\\n\\n\\nEpisodes\\nThe number of episodes in the anime.\\n\\n\\nAired\\nThe dates when the anime was aired.\\n\\n\\nPremiered\\nThe season and year when the anime premiered.\\n\\n\\nStatus\\nThe status of the anime (e.g., Finished Airing, Currently Airing, etc.).\\n\\n\\nProducers\\nThe production companies or producers of the anime.\\n\\n\\nLicensors\\nThe licensors of the anime (e.g., streaming platforms).\\n\\n\\nStudios\\nThe animation studios that worked on the anime.\\n\\n\\nSource\\nThe source material of the anime (e.g., manga, light novel, original).\\n\\n\\nDuration\\nThe duration of each episode.\\n\\n\\nRating\\nThe age rating of the anime.\\n\\n\\nRank\\nThe rank of the anime based on popularity or other criteria.\\n\\n\\nPopularity\\nThe popularity rank of the anime.\\n\\n\\nFavorites\\nThe number of times the anime was marked as a favorite by users.\\n\\n\\nScored By\\nThe number of users who scored the anime.\\n\\n\\nMembers\\nThe number of members who have added the anime to their list on the platform.\\n\\n\\nImage URL\\nThe URL of the anime's image or poster.\\n\""
      ]
     },
     "execution_count": 5,
     "metadata": {},
     "output_type": "execute_result"
    }
   ],
   "source": [
    "'''This dataset contains comprehensive details of 24,905 anime entries.'''\n",
    "df_anime = spark.read.csv(anime_dataset_path, header=True, inferSchema=True)\n",
    "\n",
    "# -=-=-=-=-=-= Collumns =-=-=-=-=-=-=-=\n",
    "'''\n",
    "anime_id\n",
    "Unique ID for each anime.\n",
    "\n",
    "\n",
    "Name\n",
    "The name of the anime in its original language.\n",
    "\n",
    "\n",
    "English name\n",
    "The English name of the anime.\n",
    "\n",
    "\n",
    "Other name\n",
    "Other names or titles of the anime in different languages.\n",
    "\n",
    "\n",
    "Score\n",
    "The score or rating given to the anime.\n",
    "\n",
    "\n",
    "Genres\n",
    "The genres of the anime, separated by commas.\n",
    "\n",
    "\n",
    "Synopsis\n",
    "A brief description or summary of the anime's plot.\n",
    "\n",
    "\n",
    "Type\n",
    "The type of the anime (e.g., TV series, movie, OVA, etc.).\n",
    "\n",
    "\n",
    "Episodes\n",
    "The number of episodes in the anime.\n",
    "\n",
    "\n",
    "Aired\n",
    "The dates when the anime was aired.\n",
    "\n",
    "\n",
    "Premiered\n",
    "The season and year when the anime premiered.\n",
    "\n",
    "\n",
    "Status\n",
    "The status of the anime (e.g., Finished Airing, Currently Airing, etc.).\n",
    "\n",
    "\n",
    "Producers\n",
    "The production companies or producers of the anime.\n",
    "\n",
    "\n",
    "Licensors\n",
    "The licensors of the anime (e.g., streaming platforms).\n",
    "\n",
    "\n",
    "Studios\n",
    "The animation studios that worked on the anime.\n",
    "\n",
    "\n",
    "Source\n",
    "The source material of the anime (e.g., manga, light novel, original).\n",
    "\n",
    "\n",
    "Duration\n",
    "The duration of each episode.\n",
    "\n",
    "\n",
    "Rating\n",
    "The age rating of the anime.\n",
    "\n",
    "\n",
    "Rank\n",
    "The rank of the anime based on popularity or other criteria.\n",
    "\n",
    "\n",
    "Popularity\n",
    "The popularity rank of the anime.\n",
    "\n",
    "\n",
    "Favorites\n",
    "The number of times the anime was marked as a favorite by users.\n",
    "\n",
    "\n",
    "Scored By\n",
    "The number of users who scored the anime.\n",
    "\n",
    "\n",
    "Members\n",
    "The number of members who have added the anime to their list on the platform.\n",
    "\n",
    "\n",
    "Image URL\n",
    "The URL of the anime's image or poster.\n",
    "'''"
   ]
  },
  {
   "cell_type": "code",
   "execution_count": 6,
   "metadata": {
    "colab": {
     "base_uri": "https://localhost:8080/",
     "height": 250
    },
    "id": "yTtGBSq5EtOj",
    "outputId": "0e935d57-81d3-44a7-aa68-42bccdb2bbe2"
   },
   "outputs": [
    {
     "data": {
      "text/plain": [
       "\"\\nanime_id\\nThe unique identifier for each anime.\\n\\n\\nName\\nThe name of the anime.\\n\\n\\nScore\\nThe average rating score of the anime.\\n\\n\\nGenres\\nThe genre(s) of the anime.\\n\\n\\nEnglish name\\nThe English name or alternate title of the anime.\\n\\n\\nJapanese name\\nThe original Japanese name of the anime.\\n\\n\\nsypnopsis\\nA brief summary or description of the anime's storyline.\\n\\n\\nType\\nThe type of the anime, such as TV series, movie, or OVA.\\n\\n\\nEpisodes\\nThe total number of episodes for the anime.\\n\\n\\nAired\\nThe date range when the anime aired.\\n\\n\\nPremiered\\nThe season and year when the anime premiered.\\n\\n\\nProducers\\nThe production companies or studios involved in creating the anime.\\n\\n\\nLicensors\\nThe companies that hold the license for distributing the anime.\\n\\n\\nStudios\\nThe animation studios responsible for producing the anime.\\n\\n\\nSource\\nThe source material for the anime, such as manga, light novel, or original.\\n\\n\\nDuration\\nThe duration of each episode.\\n\\n\\nRating\\nThe target audience rating for the anime.\\n\\n\\nRanked\\nThe ranking position of the anime based on popularity or user ratings.\\n\\n\\nPopularity\\nThe popularity rank of the anime.\\n\\n\\nMembers\\nThe number of members who have the anime in their list.\\n\\n\\nFavorites\\nThe number of users who have marked the anime as their favorite.\\n\\n\\nWatching\\nThe number of users currently watching the anime.\\n\\n\\nCompleted\\nThe number of users who have completed watching the anime.\\n\\n\\nOn-Hold\\nThe nuThe number of users who have put the anime on hold.mber of users who have dropped the anime.\\n\\n\\nDropped\\nThe number of users who have dropped the anime.\\n\""
      ]
     },
     "execution_count": 6,
     "metadata": {},
     "output_type": "execute_result"
    }
   ],
   "source": [
    "'''This dataset provide information about the different attributes and characteristics of each anime(Based on 2020 data).'''\n",
    "df_filtered = spark.read.csv(anime_filtered_path, header=True, inferSchema=True)\n",
    "\n",
    "# -=-=-=-=-=-= Collumns =-=-=-=-=-=-=-=\n",
    "'''\n",
    "anime_id\n",
    "The unique identifier for each anime.\n",
    "\n",
    "\n",
    "Name\n",
    "The name of the anime.\n",
    "\n",
    "\n",
    "Score\n",
    "The average rating score of the anime.\n",
    "\n",
    "\n",
    "Genres\n",
    "The genre(s) of the anime.\n",
    "\n",
    "\n",
    "English name\n",
    "The English name or alternate title of the anime.\n",
    "\n",
    "\n",
    "Japanese name\n",
    "The original Japanese name of the anime.\n",
    "\n",
    "\n",
    "sypnopsis\n",
    "A brief summary or description of the anime's storyline.\n",
    "\n",
    "\n",
    "Type\n",
    "The type of the anime, such as TV series, movie, or OVA.\n",
    "\n",
    "\n",
    "Episodes\n",
    "The total number of episodes for the anime.\n",
    "\n",
    "\n",
    "Aired\n",
    "The date range when the anime aired.\n",
    "\n",
    "\n",
    "Premiered\n",
    "The season and year when the anime premiered.\n",
    "\n",
    "\n",
    "Producers\n",
    "The production companies or studios involved in creating the anime.\n",
    "\n",
    "\n",
    "Licensors\n",
    "The companies that hold the license for distributing the anime.\n",
    "\n",
    "\n",
    "Studios\n",
    "The animation studios responsible for producing the anime.\n",
    "\n",
    "\n",
    "Source\n",
    "The source material for the anime, such as manga, light novel, or original.\n",
    "\n",
    "\n",
    "Duration\n",
    "The duration of each episode.\n",
    "\n",
    "\n",
    "Rating\n",
    "The target audience rating for the anime.\n",
    "\n",
    "\n",
    "Ranked\n",
    "The ranking position of the anime based on popularity or user ratings.\n",
    "\n",
    "\n",
    "Popularity\n",
    "The popularity rank of the anime.\n",
    "\n",
    "\n",
    "Members\n",
    "The number of members who have the anime in their list.\n",
    "\n",
    "\n",
    "Favorites\n",
    "The number of users who have marked the anime as their favorite.\n",
    "\n",
    "\n",
    "Watching\n",
    "The number of users currently watching the anime.\n",
    "\n",
    "\n",
    "Completed\n",
    "The number of users who have completed watching the anime.\n",
    "\n",
    "\n",
    "On-Hold\n",
    "The nuThe number of users who have put the anime on hold.mber of users who have dropped the anime.\n",
    "\n",
    "\n",
    "Dropped\n",
    "The number of users who have dropped the anime.\n",
    "'''"
   ]
  },
  {
   "cell_type": "code",
   "execution_count": 7,
   "metadata": {
    "colab": {
     "base_uri": "https://localhost:8080/",
     "height": 178
    },
    "id": "uqyvRxboEuhJ",
    "outputId": "f1a53014-6812-484d-c4e4-b025f5134cf4"
   },
   "outputs": [
    {
     "data": {
      "text/plain": [
       "'\\nusername\\nThe username of the user who rated the anime.\\n\\n\\nanime_id\\nThe unique ID of the anime.\\n\\n\\nmy_score\\nThe rating score given by the user to the anime.\\n\\n\\nuser_id\\nThe ID of the user.\\n\\n\\ngender\\nThe gender of the user.\\n\\n\\ntitle\\nThe title of the anime.\\n\\n\\ntype\\nThe type of the anime (e.g., TV series, movie, OVA, etc.).\\n\\n\\nsource\\nThe source material of the anime (e.g., manga, light novel, original, etc.).\\n\\n\\nscore\\nThe overall score of the anime.\\n\\n\\nscored_by\\nThe number of users who have rated the anime.\\n\\n\\nrank\\nThe ranking of the anime.\\n\\n\\npopularity\\nThe popularity rank of the anime.\\n\\n\\ngenre\\nThe genre(s) of the anime.\\n'"
      ]
     },
     "execution_count": 7,
     "metadata": {},
     "output_type": "execute_result"
    }
   ],
   "source": [
    "'''This dataset contains user ratings and information about various anime titles. It is curated for building an anime recommendation\n",
    "system(Based on 2018 data). The dataset includes the following columns:'''\n",
    "df_final = spark.read.csv(final_animedataset_path, header=True, inferSchema=True)\n",
    "\n",
    "# -=-=-=-=-=-= Collumns =-=-=-=-=-=-=-=\n",
    "'''\n",
    "username\n",
    "The username of the user who rated the anime.\n",
    "\n",
    "\n",
    "anime_id\n",
    "The unique ID of the anime.\n",
    "\n",
    "\n",
    "my_score\n",
    "The rating score given by the user to the anime.\n",
    "\n",
    "\n",
    "user_id\n",
    "The ID of the user.\n",
    "\n",
    "\n",
    "gender\n",
    "The gender of the user.\n",
    "\n",
    "\n",
    "title\n",
    "The title of the anime.\n",
    "\n",
    "\n",
    "type\n",
    "The type of the anime (e.g., TV series, movie, OVA, etc.).\n",
    "\n",
    "\n",
    "source\n",
    "The source material of the anime (e.g., manga, light novel, original, etc.).\n",
    "\n",
    "\n",
    "score\n",
    "The overall score of the anime.\n",
    "\n",
    "\n",
    "scored_by\n",
    "The number of users who have rated the anime.\n",
    "\n",
    "\n",
    "rank\n",
    "The ranking of the anime.\n",
    "\n",
    "\n",
    "popularity\n",
    "The popularity rank of the anime.\n",
    "\n",
    "\n",
    "genre\n",
    "The genre(s) of the anime.\n",
    "'''"
   ]
  },
  {
   "cell_type": "code",
   "execution_count": 8,
   "metadata": {
    "colab": {
     "base_uri": "https://localhost:8080/",
     "height": 53
    },
    "id": "uaHCLzApEv0L",
    "outputId": "108eb2b0-64ac-424c-ca9b-0cfe8b43fcf1"
   },
   "outputs": [
    {
     "data": {
      "text/plain": [
       "\"\\nuser_id\\nUser ID of the users.\\n\\n\\nanime_id\\nAnime ID of the animes user's watched.\\n\\n\\nrating\\nThe Score user gave to the anime.\\n\""
      ]
     },
     "execution_count": 8,
     "metadata": {},
     "output_type": "execute_result"
    }
   ],
   "source": [
    "'''This dataset contains the user's ratings for every anime they watched and rated(Based on 2020 data).'''\n",
    "df_user_filtered = spark.read.csv(user_filtered_path, header=True, inferSchema=True)\n",
    "\n",
    "# -=-=-=-=-=-= Collumns =-=-=-=-=-=-=-=\n",
    "'''\n",
    "user_id\n",
    "User ID of the users.\n",
    "\n",
    "\n",
    "anime_id\n",
    "Anime ID of the animes user's watched.\n",
    "\n",
    "\n",
    "rating\n",
    "The Score user gave to the anime.\n",
    "'''"
   ]
  },
  {
   "cell_type": "code",
   "execution_count": 9,
   "metadata": {
    "colab": {
     "base_uri": "https://localhost:8080/",
     "height": 250
    },
    "id": "R4iooGgiExHs",
    "outputId": "c65b7a1c-512a-493f-da30-3fc77490d7e8"
   },
   "outputs": [
    {
     "data": {
      "text/plain": [
       "\"\\nMal ID\\nUnique ID for each user.\\n\\n\\nUsername\\nThe username of the user.\\n\\n\\nGender\\nThe gender of the user.\\n\\n\\nBirthday\\nThe birthday of the user (in ISO format).\\n\\n\\nLocation\\nThe location or country of the user.\\n\\n\\nJoined\\nThe date when the user joined the platform (in ISO format).\\n\\n\\nDays Watched\\nThe total number of days the user has spent watching anime.\\n\\n\\nMean Score\\nThe average score given by the user to the anime they have watched.\\n\\n\\nWatching\\nThe number of anime currently being watched by the user.\\n\\n\\nCompleted\\nThe number of anime completed by the user.\\n\\n\\nOn Hold\\nThe number of anime on hold by the user.\\n\\n\\nDropped\\nThe number of anime dropped by the user.\\n\\n\\nPlan to Watch\\nThe number of anime the user plans to watch in the future.\\n\\n\\nTotal Entries\\nThe total number of anime entries in the user's list.\\n\\n\\nRewatched\\nThe number of anime rewatched by the user.\\n\\n\\nEpisodes Watched\\nThe total number of episodes watched by the user.\\n\""
      ]
     },
     "execution_count": 9,
     "metadata": {},
     "output_type": "execute_result"
    }
   ],
   "source": [
    "'''This dataset comprises information on 731,290 users registered on the MyAnimeList platform. It is worth noting that while a significant\n",
    "portion of these users are genuine anime enthusiasts, there may be instances of bots, inactive accounts, and alternate profiles present\n",
    "within the dataset.'''\n",
    "df_user_details = spark.read.csv(users_details_path, header=True, inferSchema=True)\n",
    "\n",
    "# -=-=-=-=-=-= Collumns =-=-=-=-=-=-=-=\n",
    "'''\n",
    "Mal ID\n",
    "Unique ID for each user.\n",
    "\n",
    "\n",
    "Username\n",
    "The username of the user.\n",
    "\n",
    "\n",
    "Gender\n",
    "The gender of the user.\n",
    "\n",
    "\n",
    "Birthday\n",
    "The birthday of the user (in ISO format).\n",
    "\n",
    "\n",
    "Location\n",
    "The location or country of the user.\n",
    "\n",
    "\n",
    "Joined\n",
    "The date when the user joined the platform (in ISO format).\n",
    "\n",
    "\n",
    "Days Watched\n",
    "The total number of days the user has spent watching anime.\n",
    "\n",
    "\n",
    "Mean Score\n",
    "The average score given by the user to the anime they have watched.\n",
    "\n",
    "\n",
    "Watching\n",
    "The number of anime currently being watched by the user.\n",
    "\n",
    "\n",
    "Completed\n",
    "The number of anime completed by the user.\n",
    "\n",
    "\n",
    "On Hold\n",
    "The number of anime on hold by the user.\n",
    "\n",
    "\n",
    "Dropped\n",
    "The number of anime dropped by the user.\n",
    "\n",
    "\n",
    "Plan to Watch\n",
    "The number of anime the user plans to watch in the future.\n",
    "\n",
    "\n",
    "Total Entries\n",
    "The total number of anime entries in the user's list.\n",
    "\n",
    "\n",
    "Rewatched\n",
    "The number of anime rewatched by the user.\n",
    "\n",
    "\n",
    "Episodes Watched\n",
    "The total number of episodes watched by the user.\n",
    "'''"
   ]
  },
  {
   "cell_type": "code",
   "execution_count": 10,
   "metadata": {
    "colab": {
     "base_uri": "https://localhost:8080/",
     "height": 71
    },
    "id": "WsOTOakxEyYB",
    "outputId": "30b2ece8-1e98-4802-88fb-6864280d51e2"
   },
   "outputs": [
    {
     "data": {
      "text/plain": [
       "'\\nuser_id\\nUnique ID for each user.\\n\\n\\nUsername\\nThe username of the user.\\n\\n\\nanime_id\\nUnique ID for each anime.\\n\\n\\nAnime Title\\nThe title of the anime.\\n\\n\\nrating\\nThe rating given by the user to the anime.\\n'"
      ]
     },
     "execution_count": 10,
     "metadata": {},
     "output_type": "execute_result"
    }
   ],
   "source": [
    "'''This dataset comprises anime scores provided by 270,033 users, resulting in a total of 24,325,191 rows or samples.'''\n",
    "df_user_score = spark.read.csv(users_score_path, header=True, inferSchema=True)\n",
    "\n",
    "# -=-=-=-=-=-= Collumns =-=-=-=-=-=-=-=\n",
    "'''\n",
    "user_id\n",
    "Unique ID for each user.\n",
    "\n",
    "\n",
    "Username\n",
    "The username of the user.\n",
    "\n",
    "\n",
    "anime_id\n",
    "Unique ID for each anime.\n",
    "\n",
    "\n",
    "Anime Title\n",
    "The title of the anime.\n",
    "\n",
    "\n",
    "rating\n",
    "The rating given by the user to the anime.\n",
    "'''\n"
   ]
  },
  {
   "cell_type": "code",
   "execution_count": 11,
   "metadata": {
    "colab": {
     "base_uri": "https://localhost:8080/"
    },
    "id": "HVUqqsRPI1Y-",
    "outputId": "913b2980-c62d-4c80-91cc-e236713baf5a"
   },
   "outputs": [
    {
     "name": "stdout",
     "output_type": "stream",
     "text": [
      "+--------------------+--------------------+--------------------+--------------------+--------------------+--------------------+--------------------+---------------+-------------+--------------------+---------+--------+-------------+--------------------+-------+------+--------+--------+-------+--------------------+---------+---------+-------+---------+\n",
      "|            anime_id|                Name|        English name|          Other name|               Score|              Genres|            Synopsis|           Type|     Episodes|               Aired|Premiered|  Status|    Producers|           Licensors|Studios|Source|Duration|  Rating|   Rank|          Popularity|Favorites|Scored By|Members|Image URL|\n",
      "+--------------------+--------------------+--------------------+--------------------+--------------------+--------------------+--------------------+---------------+-------------+--------------------+---------+--------+-------------+--------------------+-------+------+--------+--------+-------+--------------------+---------+---------+-------+---------+\n",
      "|                   1|        Cowboy Bebop|        Cowboy Bebop|  カウボーイビバップ|                8.75|Action, Award Win...|Crime is timeless...|           NULL|         NULL|                NULL|     NULL|    NULL|         NULL|                NULL|   NULL|  NULL|    NULL|    NULL|   NULL|                NULL|     NULL|     NULL|   NULL|     NULL|\n",
      "|Spike Spiegel and...| Spike is haunted...| Jet manages his ...| their ship. The ...| odd child Edward...|             and Ein| a bioengineered ...|           NULL|         NULL|                NULL|     NULL|    NULL|         NULL|                NULL|   NULL|  NULL|    NULL|    NULL|   NULL|                NULL|     NULL|     NULL|   NULL|     NULL|\n",
      "|While developing ...| the Bebop crew's...| Spike must choos...|                  TV|                26.0|Apr 3, 1998 to Ap...|         spring 1998|Finished Airing|Bandai Visual|Funimation, Banda...|  Sunrise|Original|24 min per ep|R - 17+ (violence...|   41.0|    43|   78525|914193.0|1771505|https://cdn.myani...|     NULL|     NULL|   NULL|     NULL|\n",
      "+--------------------+--------------------+--------------------+--------------------+--------------------+--------------------+--------------------+---------------+-------------+--------------------+---------+--------+-------------+--------------------+-------+------+--------+--------+-------+--------------------+---------+---------+-------+---------+\n",
      "only showing top 3 rows\n",
      "\n",
      "+--------+--------------------+-----+--------------------+--------------------+---------------------------+--------------------+--------------------+--------------------+--------------------+--------------------+--------------------+--------------------+--------------------+--------------------+-------------+--------------------+--------------------+--------------------+--------------------+---------------+--------------------+---------------+--------------------+-------+\n",
      "|anime_id|                Name|Score|              Genres|        English name|              Japanese name|           sypnopsis|                Type|            Episodes|               Aired|           Premiered|           Producers|           Licensors|             Studios|              Source|     Duration|              Rating|              Ranked|          Popularity|             Members|      Favorites|            Watching|      Completed|             On-Hold|Dropped|\n",
      "+--------+--------------------+-----+--------------------+--------------------+---------------------------+--------------------+--------------------+--------------------+--------------------+--------------------+--------------------+--------------------+--------------------+--------------------+-------------+--------------------+--------------------+--------------------+--------------------+---------------+--------------------+---------------+--------------------+-------+\n",
      "|       1|        Cowboy Bebop| 8.78|Action, Adventure...|        Cowboy Bebop|         カウボーイビバップ|\"In the year 2071...| pragmatic partne...| a genetically en...| highly intellige...| an enigmatic tri...| Cowboy Bebop is ...|                  TV|                  26|Apr 3, 1998 to Ap...|  Spring 1998|       Bandai Visual|Funimation, Banda...|             Sunrise|            Original|24 min. per ep.|R - 17+ (violence...|           28.0|                  39|1251960|\n",
      "|       5|Cowboy Bebop: Ten...| 8.39|Action, Drama, My...|Cowboy Bebop:The ...|カウボーイビバップ 天国の扉|other day, anothe...|               Movie|                   1|         Sep 1, 2001|             Unknown|Sunrise, Bandai V...|Sony Pictures Ent...|               Bones|            Original|1 hr. 55 min.|R - 17+ (violence...|               159.0|                 518|              273145|           1174|                4143|         208333|                1935|    770|\n",
      "|       6|              Trigun| 8.24|Action, Sci-Fi, A...|              Trigun|                 トライガン|\"Vash the Stamped...| and anyone can c...| Vash is a huge s...| Vash traverses t...| all the while fo...| Meryl Stryfe and...| who attempt to m...| their misadventu...|                  TV|           26|Apr 1, 1998 to Se...|         Spring 1998|Victor Entertainment|Funimation, Geneo...|       Madhouse|               Manga|24 min. per ep.|PG-13 - Teens 13 ...|  266.0|\n",
      "+--------+--------------------+-----+--------------------+--------------------+---------------------------+--------------------+--------------------+--------------------+--------------------+--------------------+--------------------+--------------------+--------------------+--------------------+-------------+--------------------+--------------------+--------------------+--------------------+---------------+--------------------+---------------+--------------------+-------+\n",
      "only showing top 3 rows\n",
      "\n",
      "+--------+--------+--------+-------+------+------------+----+------+-----+---------+------+----------+--------------------+\n",
      "|username|anime_id|my_score|user_id|gender|       title|type|source|score|scored_by|  rank|popularity|               genre|\n",
      "+--------+--------+--------+-------+------+------------+----+------+-----+---------+------+----------+--------------------+\n",
      "|karthiga|      21|       9|2255153|Female|   One Piece|  TV| Manga| 8.54| 423868.0|  91.0|      35.0|Action, Adventure...|\n",
      "|karthiga|      59|       7|2255153|Female|     Chobits|  TV| Manga| 7.53| 175388.0|1546.0|     188.0|Sci-Fi, Comedy, D...|\n",
      "|karthiga|      74|       7|2255153|Female|Gakuen Alice|  TV| Manga| 7.77|  33244.0| 941.0|    1291.0|Comedy, School, S...|\n",
      "+--------+--------+--------+-------+------+------------+----+------+-----+---------+------+----------+--------------------+\n",
      "only showing top 3 rows\n",
      "\n",
      "+-------+--------+------+\n",
      "|user_id|anime_id|rating|\n",
      "+-------+--------+------+\n",
      "|      0|      67|     9|\n",
      "|      0|    6702|     7|\n",
      "|      0|     242|    10|\n",
      "+-------+--------+------+\n",
      "only showing top 3 rows\n",
      "\n",
      "+------+--------+------+-------------------+--------------------+--------------------+------------+----------+--------+---------+-------+-------+-------------+-------------+---------+----------------+\n",
      "|Mal ID|Username|Gender|           Birthday|            Location|              Joined|Days Watched|Mean Score|Watching|Completed|On Hold|Dropped|Plan to Watch|Total Entries|Rewatched|Episodes Watched|\n",
      "+------+--------+------+-------------------+--------------------+--------------------+------------+----------+--------+---------+-------+-------+-------------+-------------+---------+----------------+\n",
      "|     1|   Xinil|  Male|1985-03-04 00:00:00|          California|2004-11-05T00:00:...|       142.3|      7.37|     1.0|    233.0|    8.0|   93.0|         64.0|        399.0|     60.0|          8458.0|\n",
      "|     3| Aokaado|  Male|               NULL|        Oslo, Norway|2004-11-11T00:00:...|        68.6|      7.34|    23.0|    137.0|   99.0|   44.0|         40.0|        343.0|     15.0|          4072.0|\n",
      "|     4| Crystal|Female|               NULL|Melbourne, Australia|2004-11-13T00:00:...|       212.8|      6.68|    16.0|    636.0|  303.0|    0.0|         45.0|       1000.0|     10.0|         12781.0|\n",
      "+------+--------+------+-------------------+--------------------+--------------------+------------+----------+--------+---------+-------+-------+-------------+-------------+---------+----------------+\n",
      "only showing top 3 rows\n",
      "\n",
      "+-------+--------+--------+-----------+------+\n",
      "|user_id|Username|anime_id|Anime Title|rating|\n",
      "+-------+--------+--------+-----------+------+\n",
      "|      1|   Xinil|      21|  One Piece|     9|\n",
      "|      1|   Xinil|      48|.hack//Sign|     7|\n",
      "|      1|   Xinil|     320|     A Kite|     5|\n",
      "+-------+--------+--------+-----------+------+\n",
      "only showing top 3 rows\n",
      "\n"
     ]
    }
   ],
   "source": [
    "df_anime.show(3)\n",
    "df_filtered.show(3)\n",
    "df_final.show(3)\n",
    "df_user_filtered.show(3)\n",
    "df_user_details.show(3)\n",
    "df_user_score.show(3)"
   ]
  },
  {
   "cell_type": "markdown",
   "metadata": {},
   "source": [
    "## Shapes datasets ##"
   ]
  },
  {
   "cell_type": "code",
   "execution_count": 12,
   "metadata": {
    "id": "DiXEE8M1h7PY"
   },
   "outputs": [],
   "source": [
    "def spark_shape(df):\n",
    "  return (df.count(), len(df.columns))"
   ]
  },
  {
   "cell_type": "code",
   "execution_count": 13,
   "metadata": {
    "colab": {
     "base_uri": "https://localhost:8080/"
    },
    "id": "3daU9Wtuz0c0",
    "outputId": "7069b7e8-93f9-4712-98e7-6a561feebe89"
   },
   "outputs": [
    {
     "name": "stdout",
     "output_type": "stream",
     "text": [
      "Shape of df_anime: (40779, 24)\n",
      "Shape of df_filtered: (14952, 25)\n",
      "Shape of df_final: (35305695, 13)\n",
      "Shape of df_user_filtered: (109224747, 3)\n",
      "Shape of df_user_details: (731290, 16)\n",
      "Shape of df_user_score: (24325191, 5)\n"
     ]
    }
   ],
   "source": [
    "for name_df , df in zip([\"df_anime\", \"df_filtered\", \"df_final\", \"df_user_filtered\", \"df_user_details\", \"df_user_score\"],[df_anime, df_filtered, df_final, df_user_filtered, df_user_details, df_user_score]):\n",
    "  shape = spark_shape(df)\n",
    "  print(f\"Shape of {name_df}: {shape}\")"
   ]
  },
  {
   "cell_type": "markdown",
   "metadata": {},
   "source": [
    "## Dataframes features primitive types ##"
   ]
  },
  {
   "cell_type": "code",
   "execution_count": 14,
   "metadata": {},
   "outputs": [
    {
     "name": "stdout",
     "output_type": "stream",
     "text": [
      "df_anime [('anime_id', 'string'), ('Name', 'string'), ('English name', 'string'), ('Other name', 'string'), ('Score', 'string'), ('Genres', 'string'), ('Synopsis', 'string'), ('Type', 'string'), ('Episodes', 'string'), ('Aired', 'string'), ('Premiered', 'string'), ('Status', 'string'), ('Producers', 'string'), ('Licensors', 'string'), ('Studios', 'string'), ('Source', 'string'), ('Duration', 'string'), ('Rating', 'string'), ('Rank', 'string'), ('Popularity', 'string'), ('Favorites', 'string'), ('Scored By', 'string'), ('Members', 'string'), ('Image URL', 'string')] \n",
      "\n",
      "df_filtered [('anime_id', 'int'), ('Name', 'string'), ('Score', 'string'), ('Genres', 'string'), ('English name', 'string'), ('Japanese name', 'string'), ('sypnopsis', 'string'), ('Type', 'string'), ('Episodes', 'string'), ('Aired', 'string'), ('Premiered', 'string'), ('Producers', 'string'), ('Licensors', 'string'), ('Studios', 'string'), ('Source', 'string'), ('Duration', 'string'), ('Rating', 'string'), ('Ranked', 'string'), ('Popularity', 'string'), ('Members', 'string'), ('Favorites', 'string'), ('Watching', 'string'), ('Completed', 'string'), ('On-Hold', 'string'), ('Dropped', 'string')] \n",
      "\n",
      "df_final [('username', 'string'), ('anime_id', 'int'), ('my_score', 'int'), ('user_id', 'int'), ('gender', 'string'), ('title', 'string'), ('type', 'string'), ('source', 'string'), ('score', 'string'), ('scored_by', 'double'), ('rank', 'double'), ('popularity', 'double'), ('genre', 'string')] \n",
      "\n",
      "df_user_details [('Mal ID', 'int'), ('Username', 'string'), ('Gender', 'string'), ('Birthday', 'timestamp'), ('Location', 'string'), ('Joined', 'string'), ('Days Watched', 'string'), ('Mean Score', 'string'), ('Watching', 'double'), ('Completed', 'double'), ('On Hold', 'double'), ('Dropped', 'double'), ('Plan to Watch', 'double'), ('Total Entries', 'double'), ('Rewatched', 'double'), ('Episodes Watched', 'double')] \n",
      "\n",
      "df_user_filtered [('user_id', 'int'), ('anime_id', 'int'), ('rating', 'int')] \n",
      "\n",
      "df_user_score [('user_id', 'int'), ('Username', 'string'), ('anime_id', 'int'), ('Anime Title', 'string'), ('rating', 'string')] \n",
      "\n"
     ]
    }
   ],
   "source": [
    "def get_dtype(df):\n",
    "  return df.dtypes\n",
    "for name_df , dataframes in zip(['df_anime', 'df_filtered', 'df_final', 'df_user_details', 'df_user_filtered', 'df_user_score'],[df_anime, df_filtered, df_final, df_user_details, df_user_filtered, df_user_score]):\n",
    "    print(f'{name_df} {get_dtype(dataframes)} \\n')"
   ]
  },
  {
   "cell_type": "markdown",
   "metadata": {},
   "source": [
    "## Show null values in dfs ##"
   ]
  },
  {
   "cell_type": "code",
   "execution_count": 15,
   "metadata": {
    "colab": {
     "base_uri": "https://localhost:8080/"
    },
    "id": "9oQ_gBsJ09DT",
    "outputId": "beff350d-1dcc-4da2-8d88-1d24c750b025"
   },
   "outputs": [
    {
     "name": "stdout",
     "output_type": "stream",
     "text": [
      "\n",
      "df_anime Total of null values by collumn\n",
      "+--------+----+------------+----------+-----+------+--------+-----+--------+-----+---------+------+---------+---------+-------+------+--------+------+-----+----------+---------+---------+-------+---------+\n",
      "|anime_id|Name|English name|Other name|Score|Genres|Synopsis| Type|Episodes|Aired|Premiered|Status|Producers|Licensors|Studios|Source|Duration|Rating| Rank|Popularity|Favorites|Scored By|Members|Image URL|\n",
      "+--------+----+------------+----------+-----+------+--------+-----+--------+-----+---------+------+---------+---------+-------+------+--------+------+-----+----------+---------+---------+-------+---------+\n",
      "|       0|1297|        2040|      2725| 3400|  3962|    4396|13804|   14475|14927|    15234| 15452|    15579|    15699|  15761| 15796|   15830| 15844|22805|     23665|    24376|    25001|  25534|    25947|\n",
      "+--------+----+------------+----------+-----+------+--------+-----+--------+-----+---------+------+---------+---------+-------+------+--------+------+-----+----------+---------+---------+-------+---------+\n",
      "\n",
      "\n",
      "df_filtered Total of null values by collumn\n",
      "+--------+----+-----+------+------------+-------------+---------+----+--------+-----+---------+---------+---------+-------+------+--------+------+------+----------+-------+---------+--------+---------+-------+-------+\n",
      "|anime_id|Name|Score|Genres|English name|Japanese name|sypnopsis|Type|Episodes|Aired|Premiered|Producers|Licensors|Studios|Source|Duration|Rating|Ranked|Popularity|Members|Favorites|Watching|Completed|On-Hold|Dropped|\n",
      "+--------+----+-----+------+------------+-------------+---------+----+--------+-----+---------+---------+---------+-------+------+--------+------+------+----------+-------+---------+--------+---------+-------+-------+\n",
      "|       0|   0|    0|     0|           0|            0|     1349|   1|       0|    0|        0|        0|        0|      0|     0|       0|     0|  1647|        10|     10|       13|      10|        6|      6|      6|\n",
      "+--------+----+-----+------+------------+-------------+---------+----+--------+-----+---------+---------+---------+-------+------+--------+------+------+----------+-------+---------+--------+---------+-------+-------+\n",
      "\n",
      "\n",
      "df_final Total of null values by collumn\n",
      "+--------+--------+--------+-------+------+-----+----+------+-----+---------+------+----------+-----+\n",
      "|username|anime_id|my_score|user_id|gender|title|type|source|score|scored_by|  rank|popularity|genre|\n",
      "+--------+--------+--------+-------+------+-----+----+------+-----+---------+------+----------+-----+\n",
      "|     256|       0|       0|      0|     0|    0|   0|     0|    0|        0|751600|       370| 2267|\n",
      "+--------+--------+--------+-------+------+-----+----+------+-----+---------+------+----------+-----+\n",
      "\n",
      "\n",
      "df_user_filtered Total of null values by collumn\n",
      "+-------+--------+------+\n",
      "|user_id|anime_id|rating|\n",
      "+-------+--------+------+\n",
      "|      0|       0|     0|\n",
      "+-------+--------+------+\n",
      "\n",
      "\n",
      "df_user_details Total of null values by collumn\n",
      "+------+--------+------+--------+--------+------+------------+----------+--------+---------+-------+-------+-------------+-------------+---------+----------------+\n",
      "|Mal ID|Username|Gender|Birthday|Location|Joined|Days Watched|Mean Score|Watching|Completed|On Hold|Dropped|Plan to Watch|Total Entries|Rewatched|Episodes Watched|\n",
      "+------+--------+------+--------+--------+------+------------+----------+--------+---------+-------+-------+-------------+-------------+---------+----------------+\n",
      "|     0|       0|506907|  563222|  578484|     0|           8|         8|       8|        8|      8|      8|            8|            8|        8|               8|\n",
      "+------+--------+------+--------+--------+------+------------+----------+--------+---------+-------+-------+-------------+-------------+---------+----------------+\n",
      "\n",
      "\n",
      "df_user_score Total of null values by collumn\n",
      "+-------+--------+--------+-----------+------+\n",
      "|user_id|Username|anime_id|Anime Title|rating|\n",
      "+-------+--------+--------+-----------+------+\n",
      "|      0|       0|       0|          0|     0|\n",
      "+-------+--------+--------+-----------+------+\n",
      "\n"
     ]
    }
   ],
   "source": [
    "#Count Nulls\n",
    "\n",
    "def count_nulls(name_df, df):\n",
    "  null_counts = df.select([count(when(col(c).isNull(), c)).alias(c) for c in df.columns])\n",
    "  print(f\"\\n{name_df} Total of null values by collumn\")\n",
    "  null_counts.show()\n",
    "\n",
    "for name_df , df in zip([\"df_anime\", \"df_filtered\", \"df_final\", \"df_user_filtered\", \"df_user_details\", \"df_user_score\"],[df_anime, df_filtered, df_final, df_user_filtered, df_user_details, df_user_score]):\n",
    "  nulls = count_nulls(name_df, df)\n"
   ]
  },
  {
   "cell_type": "markdown",
   "metadata": {
    "id": "NxNX1qWMIyOJ"
   },
   "source": [
    "# Com base nas informações obtidas, iremos trabalhar com o arquivo 'final_animedataset.csv', que contempla os valores de ranqueamento dos animes fornecidos pelos usuarios. Outro ponto referente a escolha desse dataset é por conter mais de 4GB de dados. #"
   ]
  },
  {
   "cell_type": "markdown",
   "metadata": {},
   "source": [
    "# Schema Configure"
   ]
  },
  {
   "cell_type": "code",
   "execution_count": 16,
   "metadata": {},
   "outputs": [],
   "source": [
    "schema = StructType([\n",
    "    StructField('username',\n",
    "                StringType(), True),\n",
    "    StructField('anime_id',\n",
    "                IntegerType(), True),\n",
    "    StructField('my_score',\n",
    "                IntegerType(), True),\n",
    "    StructField('user_id',\n",
    "                IntegerType(), True),\n",
    "    StructField('gender',\n",
    "                StringType(), True),\n",
    "    StructField('title',\n",
    "                StringType(), True),\n",
    "    StructField('type',\n",
    "                StringType(), True),\n",
    "    StructField('source',\n",
    "                StringType(), True),\n",
    "    StructField('score',\n",
    "                StringType(), True),\n",
    "    StructField('scored_by',\n",
    "                IntegerType(), True),\n",
    "    StructField('rank',\n",
    "                IntegerType(), True),\n",
    "    StructField('popularity',\n",
    "                IntegerType(), True),\n",
    "    StructField('genre',\n",
    "                StringType(), True),\n",
    "])\n",
    "\n"
   ]
  },
  {
   "cell_type": "markdown",
   "metadata": {},
   "source": [
    "# Load DataFrame with custom Scheama"
   ]
  },
  {
   "cell_type": "code",
   "execution_count": 17,
   "metadata": {},
   "outputs": [
    {
     "name": "stdout",
     "output_type": "stream",
     "text": [
      "+--------+--------+--------+-------+------+-------------+----+------+-----+---------+----+----------+--------------------+\n",
      "|username|anime_id|my_score|user_id|gender|        title|type|source|score|scored_by|rank|popularity|               genre|\n",
      "+--------+--------+--------+-------+------+-------------+----+------+-----+---------+----+----------+--------------------+\n",
      "|karthiga|      21|       9|2255153|Female|    One Piece|  TV| Manga| 8.54|   423868|NULL|        35|Action, Adventure...|\n",
      "|karthiga|      59|       7|2255153|Female|      Chobits|  TV| Manga| 7.53|   175388|NULL|       188|Sci-Fi, Comedy, D...|\n",
      "|karthiga|      74|       7|2255153|Female| Gakuen Alice|  TV| Manga| 7.77|    33244|NULL|      1291|Comedy, School, S...|\n",
      "|karthiga|     120|       7|2255153|Female|Fruits Basket|  TV| Manga| 7.77|   167968|NULL|       222|Slice of Life, Co...|\n",
      "|karthiga|     178|       7|2255153|Female| Ultra Maniac|  TV| Manga| 7.26|     9663|NULL|      2490|Magic, Comedy, Ro...|\n",
      "+--------+--------+--------+-------+------+-------------+----+------+-----+---------+----+----------+--------------------+\n",
      "only showing top 5 rows\n",
      "\n"
     ]
    }
   ],
   "source": [
    "df = spark.read.format(\n",
    "    \"csv\").schema(schema).option(\n",
    "    \"header\", True).load(final_animedataset_path)\n",
    "df.show(5)"
   ]
  },
  {
   "cell_type": "code",
   "execution_count": 18,
   "metadata": {
    "colab": {
     "base_uri": "https://localhost:8080/"
    },
    "id": "QSgpsri432pL",
    "outputId": "a3451186-1aff-4cbe-b33b-0af0837555e9"
   },
   "outputs": [
    {
     "name": "stdout",
     "output_type": "stream",
     "text": [
      "[('username', 'string'), ('anime_id', 'int'), ('my_score', 'int'), ('user_id', 'int'), ('gender', 'string'), ('title', 'string'), ('type', 'string'), ('source', 'string'), ('score', 'string'), ('scored_by', 'int'), ('rank', 'int'), ('popularity', 'int'), ('genre', 'string')]\n",
      "root\n",
      " |-- username: string (nullable = true)\n",
      " |-- anime_id: integer (nullable = true)\n",
      " |-- my_score: integer (nullable = true)\n",
      " |-- user_id: integer (nullable = true)\n",
      " |-- gender: string (nullable = true)\n",
      " |-- title: string (nullable = true)\n",
      " |-- type: string (nullable = true)\n",
      " |-- source: string (nullable = true)\n",
      " |-- score: string (nullable = true)\n",
      " |-- scored_by: integer (nullable = true)\n",
      " |-- rank: integer (nullable = true)\n",
      " |-- popularity: integer (nullable = true)\n",
      " |-- genre: string (nullable = true)\n",
      "\n"
     ]
    }
   ],
   "source": [
    "#Features Types\n",
    "\n",
    "def get_dtype(df):\n",
    "  return df.dtypes\n",
    "\n",
    "dtypes = get_dtype(df)\n",
    "print(dtypes)\n",
    "\n",
    "df.printSchema()\n"
   ]
  },
  {
   "cell_type": "code",
   "execution_count": 19,
   "metadata": {
    "colab": {
     "base_uri": "https://localhost:8080/"
    },
    "id": "IkckRnKtM-Yb",
    "outputId": "226ca649-4f7b-4570-fc4e-3a5fcc927759"
   },
   "outputs": [
    {
     "name": "stdout",
     "output_type": "stream",
     "text": [
      "+--------+--------+--------+-------+------+--------------------+----+------------+-----+---------+------+----------+--------------------+\n",
      "|username|anime_id|my_score|user_id|gender|               title|type|      source|score|scored_by|  rank|popularity|               genre|\n",
      "+--------+--------+--------+-------+------+--------------------+----+------------+-----+---------+------+----------+--------------------+\n",
      "|karthiga|      21|       9|2255153|Female|           One Piece|  TV|       Manga| 8.54| 423868.0|  91.0|      35.0|Action, Adventure...|\n",
      "|karthiga|      59|       7|2255153|Female|             Chobits|  TV|       Manga| 7.53| 175388.0|1546.0|     188.0|Sci-Fi, Comedy, D...|\n",
      "|karthiga|      74|       7|2255153|Female|        Gakuen Alice|  TV|       Manga| 7.77|  33244.0| 941.0|    1291.0|Comedy, School, S...|\n",
      "|karthiga|     120|       7|2255153|Female|       Fruits Basket|  TV|       Manga| 7.77| 167968.0| 939.0|     222.0|Slice of Life, Co...|\n",
      "|karthiga|     178|       7|2255153|Female|        Ultra Maniac|  TV|       Manga| 7.26|   9663.0|2594.0|    2490.0|Magic, Comedy, Ro...|\n",
      "|karthiga|     210|       7|2255153|Female|             Ranma ½|  TV|       Manga| 7.85|  59911.0| 802.0|     623.0|Slice of Life, Co...|\n",
      "|karthiga|     232|       6|2255153|Female|   Cardcaptor Sakura|  TV|       Manga| 8.21| 121898.0| 297.0|     292.0|Adventure, Comedy...|\n",
      "|karthiga|     233|       6|2255153|Female|      Daa! Daa! Daa!|  TV|       Manga| 7.78|   6598.0| 919.0|    3045.0|Comedy, Sci-Fi, S...|\n",
      "|karthiga|     249|       8|2255153|Female|            InuYasha|  TV|       Manga|  7.9| 181978.0| 697.0|     141.0|Action, Adventure...|\n",
      "|karthiga|     269|      10|2255153|Female|              Bleach|  TV|       Manga|  7.9| 433097.0| 693.0|      18.0|Action, Adventure...|\n",
      "|karthiga|     721|       7|2255153|Female|       Princess Tutu|  TV|    Original| 8.21|  36501.0| 307.0|     916.0|Comedy, Drama, Ma...|\n",
      "|karthiga|     853|       7|2255153|Female|Ouran Koukou Host...|  TV|       Manga| 8.34| 335137.0| 205.0|      69.0|Comedy, Harem, Ro...|\n",
      "|karthiga|     857|      10|2255153|Female|            Air Gear|  TV|       Manga| 7.64| 126326.0|1233.0|     297.0|Action, Comedy, E...|\n",
      "|karthiga|     957|       8|2255153|Female|Saiunkoku Monogatari|  TV| Light novel| 8.04|  23467.0| 512.0|    1313.0|Adventure, Fantas...|\n",
      "|karthiga|     966|      10|2255153|Female|    Crayon Shin-chan|  TV|       Manga| 7.73|  17683.0|1032.0|    1937.0|Slice of Life, Co...|\n",
      "|karthiga|    1557|       8|2255153|Female|    Shounen Onmyouji|  TV| Light novel| 7.68|  14619.0|1158.0|    1793.0|Action, Magic, Fa...|\n",
      "|karthiga|    1571|       8|2255153|Female|          Ghost Hunt|  TV|       Novel| 7.92|  69224.0| 656.0|     527.0|Comedy, Horror, M...|\n",
      "|karthiga|    1579|       9|2255153|Female|Kiniro no Corda: ...|  TV|Visual novel| 7.63|  36820.0|1273.0|    1138.0|Comedy, Drama, Ha...|\n",
      "|karthiga|    1698|       7|2255153|Female|    Nodame Cantabile|  TV|       Manga| 8.41|  87363.0| 163.0|     381.0|Music, Slice of L...|\n",
      "|karthiga|    1735|       9|2255153|Female|  Naruto: Shippuuden|  TV|       Manga| 8.18| 385179.0| 337.0|      20.0|Action, Adventure...|\n",
      "+--------+--------+--------+-------+------+--------------------+----+------------+-----+---------+------+----------+--------------------+\n",
      "only showing top 20 rows\n",
      "\n"
     ]
    }
   ],
   "source": [
    "df = df_final\n",
    "df.show()"
   ]
  },
  {
   "cell_type": "code",
   "execution_count": 20,
   "metadata": {
    "colab": {
     "base_uri": "https://localhost:8080/"
    },
    "id": "filDIU5dNBIx",
    "outputId": "1670b4ae-282c-4178-bf30-398ca7a89cb4"
   },
   "outputs": [
    {
     "name": "stdout",
     "output_type": "stream",
     "text": [
      "[('username', 'string'), ('anime_id', 'int'), ('my_score', 'int'), ('user_id', 'int'), ('gender', 'string'), ('title', 'string'), ('type', 'string'), ('source', 'string'), ('score', 'string'), ('scored_by', 'double'), ('rank', 'double'), ('popularity', 'double'), ('genre', 'string')]\n"
     ]
    }
   ],
   "source": [
    "collumns_types = get_dtype(df)\n",
    "print(collumns_types)"
   ]
  },
  {
   "cell_type": "code",
   "execution_count": 22,
   "metadata": {
    "colab": {
     "base_uri": "https://localhost:8080/"
    },
    "id": "78LKpmcCNZ3A",
    "outputId": "623a80fe-d461-440e-8a5d-c5a7eabc4b40"
   },
   "outputs": [
    {
     "name": "stdout",
     "output_type": "stream",
     "text": [
      "+--------------------+--------+\n",
      "|                type|   count|\n",
      "+--------------------+--------+\n",
      "|                  TV|23696077|\n",
      "|           Igi Ari!\"|    7790|\n",
      "| Doushite Konna O...|     370|\n",
      "|             Special| 2576837|\n",
      "|                 OVA| 3952868|\n",
      "|               Music|  176054|\n",
      "|               Movie| 4270626|\n",
      "|                 ONA|  625073|\n",
      "+--------------------+--------+\n",
      "\n"
     ]
    }
   ],
   "source": [
    "df.groupBy('type').count().show()"
   ]
  },
  {
   "cell_type": "code",
   "execution_count": 23,
   "metadata": {
    "colab": {
     "base_uri": "https://localhost:8080/"
    },
    "id": "-63PityePTMl",
    "outputId": "a8743402-845f-40be-81a9-958f356cac1c"
   },
   "outputs": [
    {
     "name": "stdout",
     "output_type": "stream",
     "text": [
      "+----------+-----+\n",
      "|    gender|count|\n",
      "+----------+-----+\n",
      "|    Female|39993|\n",
      "|Non-Binary|  598|\n",
      "|      Male|75534|\n",
      "+----------+-----+\n",
      "\n"
     ]
    }
   ],
   "source": [
    "unique_gender_distribution = df.dropDuplicates(['user_id']).groupBy('gender').count()\n",
    "unique_gender_distribution.show()"
   ]
  },
  {
   "cell_type": "markdown",
   "metadata": {
    "id": "zurUoRz81Txr"
   },
   "source": []
  },
  {
   "cell_type": "code",
   "execution_count": 24,
   "metadata": {
    "colab": {
     "base_uri": "https://localhost:8080/",
     "height": 515
    },
    "id": "K4cFrsBm4Z3r",
    "outputId": "a3fb5c78-fa06-48f2-fb27-80cbef406f8c"
   },
   "outputs": [
    {
     "name": "stdout",
     "output_type": "stream",
     "text": [
      "OrderedDict([('Male', 75534), ('Female', 39993), ('Non-Binary', 598)])\n"
     ]
    },
    {
     "data": {
      "image/png": "[encoded data removed]",
      "text/plain": [
       "<Figure size 600x600 with 1 Axes>"
      ]
     },
     "metadata": {},
     "output_type": "display_data"
    }
   ],
   "source": [
    "# Plot distribution of gender\n",
    "\n",
    "unique_gender = {row['gender']: row['count'] for row in unique_gender_distribution.collect()}\n",
    "unique_gender = OrderedDict(sorted(unique_gender.items(), key=lambda x: x[1], reverse=True))\n",
    "\n",
    "print(unique_gender)\n",
    "\n",
    "unique_labels = unique_gender.keys()\n",
    "unique_values = unique_gender.values()\n",
    "\n",
    "\n",
    "fig, ax = plt.subplots(figsize=(6, 6), subplot_kw=dict(aspect=\"equal\"))\n",
    "wedges, texts, autotexts = ax.pie(unique_values, labels=unique_labels, autopct=lambda pct: f' {int(round(pct/100.*sum(unique_values)))} \\n {pct:.1f}% ', textprops=dict(color=\"w\"))\n",
    "\n",
    "ax.legend(wedges, unique_labels, title=\"Gender\", loc=\"center left\", bbox_to_anchor=(1, 0, 0.5, 1))\n",
    "plt.setp(autotexts, size=8, weight=\"bold\")\n",
    "ax.set_title('Unique Gender Distribution')\n",
    "\n",
    "plt.tight_layout()\n",
    "plt.show()"
   ]
  },
  {
   "cell_type": "code",
   "execution_count": 25,
   "metadata": {
    "colab": {
     "base_uri": "https://localhost:8080/"
    },
    "id": "iDostW0h86t1",
    "outputId": "3f7a7f64-3325-4ac0-e626-94d7ab3af3f8"
   },
   "outputs": [
    {
     "name": "stdout",
     "output_type": "stream",
     "text": [
      "+----------+--------+\n",
      "|    gender|   count|\n",
      "+----------+--------+\n",
      "|    Female| 9678908|\n",
      "|Non-Binary|  240434|\n",
      "|      Male|25386353|\n",
      "+----------+--------+\n",
      "\n"
     ]
    }
   ],
   "source": [
    "all_gender_distribution = df.groupBy('gender').count()\n",
    "all_gender_distribution.show()"
   ]
  },
  {
   "cell_type": "code",
   "execution_count": 26,
   "metadata": {
    "colab": {
     "base_uri": "https://localhost:8080/",
     "height": 515
    },
    "id": "On0_ZvUj4yAH",
    "outputId": "51aace53-dda4-4324-a50e-0c81ba790af4"
   },
   "outputs": [
    {
     "name": "stdout",
     "output_type": "stream",
     "text": [
      "OrderedDict([('Male', 25386353), ('Female', 9678908), ('Non-Binary', 240434)])\n"
     ]
    },
    {
     "data": {
      "image/png": "[encoded data removed]",
      "text/plain": [
       "<Figure size 600x600 with 1 Axes>"
      ]
     },
     "metadata": {},
     "output_type": "display_data"
    }
   ],
   "source": [
    "all_gender = {row['gender']: row['count'] for row in all_gender_distribution.collect()}\n",
    "all_gender = OrderedDict(sorted(all_gender.items(), key=lambda x: x[1], reverse=True))\n",
    "\n",
    "print(all_gender)\n",
    "\n",
    "all_labels = all_gender.keys()\n",
    "all_values = all_gender.values()\n",
    "\n",
    "\n",
    "fig, ax = plt.subplots(figsize=(6, 6), subplot_kw=dict(aspect=\"equal\"))\n",
    "wedges, texts, autotexts = ax.pie(all_values, labels=all_labels, autopct=lambda pct: f' {int(round(pct/100.*sum(all_values)))} \\n {pct:.1f}% ', textprops=dict(color=\"w\"))\n",
    "\n",
    "ax.legend(wedges, all_labels, title=\"Gender\", loc=\"center left\", bbox_to_anchor=(1, 0, 0.5, 1))\n",
    "plt.setp(autotexts, size=8, weight=\"bold\")\n",
    "ax.set_title('All Gender Distribution')\n",
    "\n",
    "plt.tight_layout()\n",
    "plt.show()"
   ]
  },
  {
   "cell_type": "code",
   "execution_count": 27,
   "metadata": {
    "id": "dSqlLIYKPeK3"
   },
   "outputs": [
    {
     "name": "stdout",
     "output_type": "stream",
     "text": [
      "+--------+--------+------+--------------------+----+------------+-----+---------+------+----------+--------------------+\n",
      "|anime_id|my_score|gender|               title|type|      source|score|scored_by|  rank|popularity|               genre|\n",
      "+--------+--------+------+--------------------+----+------------+-----+---------+------+----------+--------------------+\n",
      "|      21|       9|Female|           One Piece|  TV|       Manga| 8.54| 423868.0|  91.0|      35.0|Action, Adventure...|\n",
      "|      59|       7|Female|             Chobits|  TV|       Manga| 7.53| 175388.0|1546.0|     188.0|Sci-Fi, Comedy, D...|\n",
      "|      74|       7|Female|        Gakuen Alice|  TV|       Manga| 7.77|  33244.0| 941.0|    1291.0|Comedy, School, S...|\n",
      "|     120|       7|Female|       Fruits Basket|  TV|       Manga| 7.77| 167968.0| 939.0|     222.0|Slice of Life, Co...|\n",
      "|     178|       7|Female|        Ultra Maniac|  TV|       Manga| 7.26|   9663.0|2594.0|    2490.0|Magic, Comedy, Ro...|\n",
      "|     210|       7|Female|             Ranma ½|  TV|       Manga| 7.85|  59911.0| 802.0|     623.0|Slice of Life, Co...|\n",
      "|     232|       6|Female|   Cardcaptor Sakura|  TV|       Manga| 8.21| 121898.0| 297.0|     292.0|Adventure, Comedy...|\n",
      "|     233|       6|Female|      Daa! Daa! Daa!|  TV|       Manga| 7.78|   6598.0| 919.0|    3045.0|Comedy, Sci-Fi, S...|\n",
      "|     249|       8|Female|            InuYasha|  TV|       Manga|  7.9| 181978.0| 697.0|     141.0|Action, Adventure...|\n",
      "|     269|      10|Female|              Bleach|  TV|       Manga|  7.9| 433097.0| 693.0|      18.0|Action, Adventure...|\n",
      "|     721|       7|Female|       Princess Tutu|  TV|    Original| 8.21|  36501.0| 307.0|     916.0|Comedy, Drama, Ma...|\n",
      "|     853|       7|Female|Ouran Koukou Host...|  TV|       Manga| 8.34| 335137.0| 205.0|      69.0|Comedy, Harem, Ro...|\n",
      "|     857|      10|Female|            Air Gear|  TV|       Manga| 7.64| 126326.0|1233.0|     297.0|Action, Comedy, E...|\n",
      "|     957|       8|Female|Saiunkoku Monogatari|  TV| Light novel| 8.04|  23467.0| 512.0|    1313.0|Adventure, Fantas...|\n",
      "|     966|      10|Female|    Crayon Shin-chan|  TV|       Manga| 7.73|  17683.0|1032.0|    1937.0|Slice of Life, Co...|\n",
      "|    1557|       8|Female|    Shounen Onmyouji|  TV| Light novel| 7.68|  14619.0|1158.0|    1793.0|Action, Magic, Fa...|\n",
      "|    1571|       8|Female|          Ghost Hunt|  TV|       Novel| 7.92|  69224.0| 656.0|     527.0|Comedy, Horror, M...|\n",
      "|    1579|       9|Female|Kiniro no Corda: ...|  TV|Visual novel| 7.63|  36820.0|1273.0|    1138.0|Comedy, Drama, Ha...|\n",
      "|    1698|       7|Female|    Nodame Cantabile|  TV|       Manga| 8.41|  87363.0| 163.0|     381.0|Music, Slice of L...|\n",
      "|    1735|       9|Female|  Naruto: Shippuuden|  TV|       Manga| 8.18| 385179.0| 337.0|      20.0|Action, Adventure...|\n",
      "+--------+--------+------+--------------------+----+------------+-----+---------+------+----------+--------------------+\n",
      "only showing top 20 rows\n",
      "\n"
     ]
    }
   ],
   "source": [
    "df = df.drop('username','user_id')\n",
    "df.show()"
   ]
  },
  {
   "cell_type": "code",
   "execution_count": null,
   "metadata": {
    "id": "2cMpfmEZ8PgT"
   },
   "outputs": [],
   "source": []
  }
 ],
 "metadata": {
  "accelerator": "GPU",
  "colab": {
   "authorship_tag": "ABX9TyNNk8qROTCkh0paPu7T+vI7",
   "gpuType": "T4",
   "include_colab_link": true,
   "provenance": []
  },
  "kernelspec": {
   "display_name": "Python 3 (ipykernel)",
   "language": "python",
   "name": "python3"
  },
  "language_info": {
   "codemirror_mode": {
    "name": "ipython",
    "version": 3
   },
   "file_extension": ".py",
   "mimetype": "text/x-python",
   "name": "python",
   "nbconvert_exporter": "python",
   "pygments_lexer": "ipython3",
   "version": "3.11.6"
  }
 },
 "nbformat": 4,
 "nbformat_minor": 4
}
