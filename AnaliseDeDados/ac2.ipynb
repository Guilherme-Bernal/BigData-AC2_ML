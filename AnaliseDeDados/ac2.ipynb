{
  "cells": [
    {
      "cell_type": "markdown",
      "metadata": {
        "id": "view-in-github",
        "colab_type": "text"
      },
      "source": [
        "<a href=\"https://colab.research.google.com/github/Guilherme-Bernal/BigData-AC2_ML/blob/main/ac2.ipynb\" target=\"_parent\"><img src=\"https://colab.research.google.com/assets/colab-badge.svg\" alt=\"Open In Colab\"/></a>"
      ]
    },
    {
      "cell_type": "code",
      "execution_count": null,
      "metadata": {
        "colab": {
          "base_uri": "https://localhost:8080/"
        },
        "id": "0SrjS1ZAHuH1",
        "outputId": "305ef561-9940-47e8-c876-2b1da3c892c8"
      },
      "outputs": [
        {
          "output_type": "stream",
          "name": "stdout",
          "text": [
            "Mounted at /content/drive\n"
          ]
        }
      ],
      "source": [
        "from google.colab import drive\n",
        "drive.mount('/content/drive')"
      ]
    },
    {
      "cell_type": "code",
      "execution_count": null,
      "metadata": {
        "id": "qHl53EsyH7x1"
      },
      "outputs": [],
      "source": [
        "from pyspark.sql import SparkSession\n",
        "from pyspark.sql.functions import isnan, when, count, col\n",
        "\n",
        "# from pyspark.ml.feature import VectorAssembler\n",
        "# from pyspark.ml.classification import RandomForestClassifier\n",
        "# from pyspark.ml import Pipeline\n",
        "# from pyspark.ml.evaluation import MulticlassClassificationEvaluator\n",
        "\n",
        "import numpy as np\n",
        "import matplotlib.pyplot as plt\n",
        "import os\n",
        "\n",
        "from collections import OrderedDict"
      ]
    },
    {
      "cell_type": "code",
      "execution_count": null,
      "metadata": {
        "id": "bG6h3NS9FUw6"
      },
      "outputs": [],
      "source": [
        "#Path\n",
        "\n",
        "anime_dataset_path = \"/content/drive/MyDrive/Bigdata/data/anime-dataset-2023.csv\"\n",
        "anime_filtered_path = \"/content/drive/MyDrive/Bigdata/data/anime-filtered.csv\"\n",
        "final_animedataset_path = \"/content/drive/MyDrive/Bigdata/data/final_animedataset.csv\"\n",
        "\n",
        "user_filtered_path = \"/content/drive/MyDrive/Bigdata/data/user-filtered.csv\"\n",
        "users_details_path = \"/content/drive/MyDrive/Bigdata/data/users-details-2023.csv\"\n",
        "users_score_path = \"/content/drive/MyDrive/Bigdata/data/users-score-2023.csv\""
      ]
    },
    {
      "cell_type": "code",
      "execution_count": null,
      "metadata": {
        "id": "cUd4YWjNDQav",
        "colab": {
          "base_uri": "https://localhost:8080/"
        },
        "outputId": "3cbf8c58-c670-49c7-db9d-2a5f609dd0d3"
      },
      "outputs": [
        {
          "output_type": "stream",
          "name": "stdout",
          "text": [
            "anime-dataset-2023 -  0.015 GB\n",
            "anime-filtered -      0.009 GB\n",
            "final_animedataset -  4.237 GB\n",
            "user-filtered -       1.439 GB\n",
            "users-details-2023 -  0.069 GB\n",
            "users-score-2023 -    1.078 GB\n"
          ]
        }
      ],
      "source": [
        "#Files sizes bytes to gb\n",
        "\n",
        "print(f\"anime-dataset-2023 -  {os.path.getsize(anime_dataset_path)/1024**3:.3f} GB\")\n",
        "print(f\"anime-filtered -      {os.path.getsize(anime_filtered_path)/1024**3:.3f} GB\")\n",
        "print(f\"final_animedataset -  {os.path.getsize(final_animedataset_path)/1024**3:.3f} GB\")\n",
        "\n",
        "print(f\"user-filtered -       {os.path.getsize(user_filtered_path)/1024**3:.3f} GB\")\n",
        "print(f\"users-details-2023 -  {os.path.getsize(users_details_path)/1024**3:.3f} GB\")\n",
        "print(f\"users-score-2023 -    {os.path.getsize(users_score_path)/1024**3:.3f} GB\")"
      ]
    },
    {
      "cell_type": "code",
      "execution_count": null,
      "metadata": {
        "id": "ldBkRBEJIVBx"
      },
      "outputs": [],
      "source": [
        "spark = SparkSession.builder.appName(\"Ac2 Big Data\").getOrCreate()"
      ]
    },
    {
      "cell_type": "markdown",
      "metadata": {
        "id": "SZ81FguVE0fD"
      },
      "source": [
        "### Read files with Spark and info collumns"
      ]
    },
    {
      "cell_type": "code",
      "execution_count": null,
      "metadata": {
        "id": "ZvVr8bkJIbyg",
        "colab": {
          "base_uri": "https://localhost:8080/",
          "height": 250
        },
        "outputId": "ca097ca1-3de0-494f-9d57-59178dab2e10"
      },
      "outputs": [
        {
          "output_type": "execute_result",
          "data": {
            "text/plain": [
              "\"\\nanime_id\\nUnique ID for each anime.\\n\\n\\nName\\nThe name of the anime in its original language.\\n\\n\\nEnglish name\\nThe English name of the anime.\\n\\n\\nOther name\\nOther names or titles of the anime in different languages.\\n\\n\\nScore\\nThe score or rating given to the anime.\\n\\n\\nGenres\\nThe genres of the anime, separated by commas.\\n\\n\\nSynopsis\\nA brief description or summary of the anime's plot.\\n\\n\\nType\\nThe type of the anime (e.g., TV series, movie, OVA, etc.).\\n\\n\\nEpisodes\\nThe number of episodes in the anime.\\n\\n\\nAired\\nThe dates when the anime was aired.\\n\\n\\nPremiered\\nThe season and year when the anime premiered.\\n\\n\\nStatus\\nThe status of the anime (e.g., Finished Airing, Currently Airing, etc.).\\n\\n\\nProducers\\nThe production companies or producers of the anime.\\n\\n\\nLicensors\\nThe licensors of the anime (e.g., streaming platforms).\\n\\n\\nStudios\\nThe animation studios that worked on the anime.\\n\\n\\nSource\\nThe source material of the anime (e.g., manga, light novel, original).\\n\\n\\nDuration\\nThe duration of each episode.\\n\\n\\nRating\\nThe age rating of the anime.\\n\\n\\nRank\\nThe rank of the anime based on popularity or other criteria.\\n\\n\\nPopularity\\nThe popularity rank of the anime.\\n\\n\\nFavorites\\nThe number of times the anime was marked as a favorite by users.\\n\\n\\nScored By\\nThe number of users who scored the anime.\\n\\n\\nMembers\\nThe number of members who have added the anime to their list on the platform.\\n\\n\\nImage URL\\nThe URL of the anime's image or poster.\\n\""
            ],
            "application/vnd.google.colaboratory.intrinsic+json": {
              "type": "string"
            }
          },
          "metadata": {},
          "execution_count": 6
        }
      ],
      "source": [
        "'''This dataset contains comprehensive details of 24,905 anime entries.'''\n",
        "df_anime = spark.read.csv(anime_dataset_path, header=True, inferSchema=True)\n",
        "\n",
        "# -=-=-=-=-=-= Collumns =-=-=-=-=-=-=-=\n",
        "'''\n",
        "anime_id\n",
        "Unique ID for each anime.\n",
        "\n",
        "\n",
        "Name\n",
        "The name of the anime in its original language.\n",
        "\n",
        "\n",
        "English name\n",
        "The English name of the anime.\n",
        "\n",
        "\n",
        "Other name\n",
        "Other names or titles of the anime in different languages.\n",
        "\n",
        "\n",
        "Score\n",
        "The score or rating given to the anime.\n",
        "\n",
        "\n",
        "Genres\n",
        "The genres of the anime, separated by commas.\n",
        "\n",
        "\n",
        "Synopsis\n",
        "A brief description or summary of the anime's plot.\n",
        "\n",
        "\n",
        "Type\n",
        "The type of the anime (e.g., TV series, movie, OVA, etc.).\n",
        "\n",
        "\n",
        "Episodes\n",
        "The number of episodes in the anime.\n",
        "\n",
        "\n",
        "Aired\n",
        "The dates when the anime was aired.\n",
        "\n",
        "\n",
        "Premiered\n",
        "The season and year when the anime premiered.\n",
        "\n",
        "\n",
        "Status\n",
        "The status of the anime (e.g., Finished Airing, Currently Airing, etc.).\n",
        "\n",
        "\n",
        "Producers\n",
        "The production companies or producers of the anime.\n",
        "\n",
        "\n",
        "Licensors\n",
        "The licensors of the anime (e.g., streaming platforms).\n",
        "\n",
        "\n",
        "Studios\n",
        "The animation studios that worked on the anime.\n",
        "\n",
        "\n",
        "Source\n",
        "The source material of the anime (e.g., manga, light novel, original).\n",
        "\n",
        "\n",
        "Duration\n",
        "The duration of each episode.\n",
        "\n",
        "\n",
        "Rating\n",
        "The age rating of the anime.\n",
        "\n",
        "\n",
        "Rank\n",
        "The rank of the anime based on popularity or other criteria.\n",
        "\n",
        "\n",
        "Popularity\n",
        "The popularity rank of the anime.\n",
        "\n",
        "\n",
        "Favorites\n",
        "The number of times the anime was marked as a favorite by users.\n",
        "\n",
        "\n",
        "Scored By\n",
        "The number of users who scored the anime.\n",
        "\n",
        "\n",
        "Members\n",
        "The number of members who have added the anime to their list on the platform.\n",
        "\n",
        "\n",
        "Image URL\n",
        "The URL of the anime's image or poster.\n",
        "'''"
      ]
    },
    {
      "cell_type": "code",
      "execution_count": null,
      "metadata": {
        "id": "yTtGBSq5EtOj",
        "colab": {
          "base_uri": "https://localhost:8080/",
          "height": 250
        },
        "outputId": "0e935d57-81d3-44a7-aa68-42bccdb2bbe2"
      },
      "outputs": [
        {
          "output_type": "execute_result",
          "data": {
            "text/plain": [
              "\"\\nanime_id\\nThe unique identifier for each anime.\\n\\n\\nName\\nThe name of the anime.\\n\\n\\nScore\\nThe average rating score of the anime.\\n\\n\\nGenres\\nThe genre(s) of the anime.\\n\\n\\nEnglish name\\nThe English name or alternate title of the anime.\\n\\n\\nJapanese name\\nThe original Japanese name of the anime.\\n\\n\\nsypnopsis\\nA brief summary or description of the anime's storyline.\\n\\n\\nType\\nThe type of the anime, such as TV series, movie, or OVA.\\n\\n\\nEpisodes\\nThe total number of episodes for the anime.\\n\\n\\nAired\\nThe date range when the anime aired.\\n\\n\\nPremiered\\nThe season and year when the anime premiered.\\n\\n\\nProducers\\nThe production companies or studios involved in creating the anime.\\n\\n\\nLicensors\\nThe companies that hold the license for distributing the anime.\\n\\n\\nStudios\\nThe animation studios responsible for producing the anime.\\n\\n\\nSource\\nThe source material for the anime, such as manga, light novel, or original.\\n\\n\\nDuration\\nThe duration of each episode.\\n\\n\\nRating\\nThe target audience rating for the anime.\\n\\n\\nRanked\\nThe ranking position of the anime based on popularity or user ratings.\\n\\n\\nPopularity\\nThe popularity rank of the anime.\\n\\n\\nMembers\\nThe number of members who have the anime in their list.\\n\\n\\nFavorites\\nThe number of users who have marked the anime as their favorite.\\n\\n\\nWatching\\nThe number of users currently watching the anime.\\n\\n\\nCompleted\\nThe number of users who have completed watching the anime.\\n\\n\\nOn-Hold\\nThe nuThe number of users who have put the anime on hold.mber of users who have dropped the anime.\\n\\n\\nDropped\\nThe number of users who have dropped the anime.\\n\""
            ],
            "application/vnd.google.colaboratory.intrinsic+json": {
              "type": "string"
            }
          },
          "metadata": {},
          "execution_count": 7
        }
      ],
      "source": [
        "'''This dataset provide information about the different attributes and characteristics of each anime(Based on 2020 data).'''\n",
        "df_filtered = spark.read.csv(anime_filtered_path, header=True, inferSchema=True)\n",
        "\n",
        "# -=-=-=-=-=-= Collumns =-=-=-=-=-=-=-=\n",
        "'''\n",
        "anime_id\n",
        "The unique identifier for each anime.\n",
        "\n",
        "\n",
        "Name\n",
        "The name of the anime.\n",
        "\n",
        "\n",
        "Score\n",
        "The average rating score of the anime.\n",
        "\n",
        "\n",
        "Genres\n",
        "The genre(s) of the anime.\n",
        "\n",
        "\n",
        "English name\n",
        "The English name or alternate title of the anime.\n",
        "\n",
        "\n",
        "Japanese name\n",
        "The original Japanese name of the anime.\n",
        "\n",
        "\n",
        "sypnopsis\n",
        "A brief summary or description of the anime's storyline.\n",
        "\n",
        "\n",
        "Type\n",
        "The type of the anime, such as TV series, movie, or OVA.\n",
        "\n",
        "\n",
        "Episodes\n",
        "The total number of episodes for the anime.\n",
        "\n",
        "\n",
        "Aired\n",
        "The date range when the anime aired.\n",
        "\n",
        "\n",
        "Premiered\n",
        "The season and year when the anime premiered.\n",
        "\n",
        "\n",
        "Producers\n",
        "The production companies or studios involved in creating the anime.\n",
        "\n",
        "\n",
        "Licensors\n",
        "The companies that hold the license for distributing the anime.\n",
        "\n",
        "\n",
        "Studios\n",
        "The animation studios responsible for producing the anime.\n",
        "\n",
        "\n",
        "Source\n",
        "The source material for the anime, such as manga, light novel, or original.\n",
        "\n",
        "\n",
        "Duration\n",
        "The duration of each episode.\n",
        "\n",
        "\n",
        "Rating\n",
        "The target audience rating for the anime.\n",
        "\n",
        "\n",
        "Ranked\n",
        "The ranking position of the anime based on popularity or user ratings.\n",
        "\n",
        "\n",
        "Popularity\n",
        "The popularity rank of the anime.\n",
        "\n",
        "\n",
        "Members\n",
        "The number of members who have the anime in their list.\n",
        "\n",
        "\n",
        "Favorites\n",
        "The number of users who have marked the anime as their favorite.\n",
        "\n",
        "\n",
        "Watching\n",
        "The number of users currently watching the anime.\n",
        "\n",
        "\n",
        "Completed\n",
        "The number of users who have completed watching the anime.\n",
        "\n",
        "\n",
        "On-Hold\n",
        "The nuThe number of users who have put the anime on hold.mber of users who have dropped the anime.\n",
        "\n",
        "\n",
        "Dropped\n",
        "The number of users who have dropped the anime.\n",
        "'''"
      ]
    },
    {
      "cell_type": "code",
      "execution_count": null,
      "metadata": {
        "id": "uqyvRxboEuhJ",
        "colab": {
          "base_uri": "https://localhost:8080/",
          "height": 178
        },
        "outputId": "f1a53014-6812-484d-c4e4-b025f5134cf4"
      },
      "outputs": [
        {
          "output_type": "execute_result",
          "data": {
            "text/plain": [
              "'\\nusername\\nThe username of the user who rated the anime.\\n\\n\\nanime_id\\nThe unique ID of the anime.\\n\\n\\nmy_score\\nThe rating score given by the user to the anime.\\n\\n\\nuser_id\\nThe ID of the user.\\n\\n\\ngender\\nThe gender of the user.\\n\\n\\ntitle\\nThe title of the anime.\\n\\n\\ntype\\nThe type of the anime (e.g., TV series, movie, OVA, etc.).\\n\\n\\nsource\\nThe source material of the anime (e.g., manga, light novel, original, etc.).\\n\\n\\nscore\\nThe overall score of the anime.\\n\\n\\nscored_by\\nThe number of users who have rated the anime.\\n\\n\\nrank\\nThe ranking of the anime.\\n\\n\\npopularity\\nThe popularity rank of the anime.\\n\\n\\ngenre\\nThe genre(s) of the anime.\\n'"
            ],
            "application/vnd.google.colaboratory.intrinsic+json": {
              "type": "string"
            }
          },
          "metadata": {},
          "execution_count": 8
        }
      ],
      "source": [
        "'''This dataset contains user ratings and information about various anime titles. It is curated for building an anime recommendation\n",
        "system(Based on 2018 data). The dataset includes the following columns:'''\n",
        "df_final = spark.read.csv(final_animedataset_path, header=True, inferSchema=True)\n",
        "\n",
        "# -=-=-=-=-=-= Collumns =-=-=-=-=-=-=-=\n",
        "'''\n",
        "username\n",
        "The username of the user who rated the anime.\n",
        "\n",
        "\n",
        "anime_id\n",
        "The unique ID of the anime.\n",
        "\n",
        "\n",
        "my_score\n",
        "The rating score given by the user to the anime.\n",
        "\n",
        "\n",
        "user_id\n",
        "The ID of the user.\n",
        "\n",
        "\n",
        "gender\n",
        "The gender of the user.\n",
        "\n",
        "\n",
        "title\n",
        "The title of the anime.\n",
        "\n",
        "\n",
        "type\n",
        "The type of the anime (e.g., TV series, movie, OVA, etc.).\n",
        "\n",
        "\n",
        "source\n",
        "The source material of the anime (e.g., manga, light novel, original, etc.).\n",
        "\n",
        "\n",
        "score\n",
        "The overall score of the anime.\n",
        "\n",
        "\n",
        "scored_by\n",
        "The number of users who have rated the anime.\n",
        "\n",
        "\n",
        "rank\n",
        "The ranking of the anime.\n",
        "\n",
        "\n",
        "popularity\n",
        "The popularity rank of the anime.\n",
        "\n",
        "\n",
        "genre\n",
        "The genre(s) of the anime.\n",
        "'''"
      ]
    },
    {
      "cell_type": "code",
      "execution_count": null,
      "metadata": {
        "id": "uaHCLzApEv0L",
        "colab": {
          "base_uri": "https://localhost:8080/",
          "height": 53
        },
        "outputId": "108eb2b0-64ac-424c-ca9b-0cfe8b43fcf1"
      },
      "outputs": [
        {
          "output_type": "execute_result",
          "data": {
            "text/plain": [
              "\"\\nuser_id\\nUser ID of the users.\\n\\n\\nanime_id\\nAnime ID of the animes user's watched.\\n\\n\\nrating\\nThe Score user gave to the anime.\\n\""
            ],
            "application/vnd.google.colaboratory.intrinsic+json": {
              "type": "string"
            }
          },
          "metadata": {},
          "execution_count": 9
        }
      ],
      "source": [
        "'''This dataset contains the user's ratings for every anime they watched and rated(Based on 2020 data).'''\n",
        "df_user_filtered = spark.read.csv(user_filtered_path, header=True, inferSchema=True)\n",
        "\n",
        "# -=-=-=-=-=-= Collumns =-=-=-=-=-=-=-=\n",
        "'''\n",
        "user_id\n",
        "User ID of the users.\n",
        "\n",
        "\n",
        "anime_id\n",
        "Anime ID of the animes user's watched.\n",
        "\n",
        "\n",
        "rating\n",
        "The Score user gave to the anime.\n",
        "'''"
      ]
    },
    {
      "cell_type": "code",
      "execution_count": null,
      "metadata": {
        "id": "R4iooGgiExHs",
        "colab": {
          "base_uri": "https://localhost:8080/",
          "height": 250
        },
        "outputId": "c65b7a1c-512a-493f-da30-3fc77490d7e8"
      },
      "outputs": [
        {
          "output_type": "execute_result",
          "data": {
            "text/plain": [
              "\"\\nMal ID\\nUnique ID for each user.\\n\\n\\nUsername\\nThe username of the user.\\n\\n\\nGender\\nThe gender of the user.\\n\\n\\nBirthday\\nThe birthday of the user (in ISO format).\\n\\n\\nLocation\\nThe location or country of the user.\\n\\n\\nJoined\\nThe date when the user joined the platform (in ISO format).\\n\\n\\nDays Watched\\nThe total number of days the user has spent watching anime.\\n\\n\\nMean Score\\nThe average score given by the user to the anime they have watched.\\n\\n\\nWatching\\nThe number of anime currently being watched by the user.\\n\\n\\nCompleted\\nThe number of anime completed by the user.\\n\\n\\nOn Hold\\nThe number of anime on hold by the user.\\n\\n\\nDropped\\nThe number of anime dropped by the user.\\n\\n\\nPlan to Watch\\nThe number of anime the user plans to watch in the future.\\n\\n\\nTotal Entries\\nThe total number of anime entries in the user's list.\\n\\n\\nRewatched\\nThe number of anime rewatched by the user.\\n\\n\\nEpisodes Watched\\nThe total number of episodes watched by the user.\\n\""
            ],
            "application/vnd.google.colaboratory.intrinsic+json": {
              "type": "string"
            }
          },
          "metadata": {},
          "execution_count": 10
        }
      ],
      "source": [
        "'''This dataset comprises information on 731,290 users registered on the MyAnimeList platform. It is worth noting that while a significant\n",
        "portion of these users are genuine anime enthusiasts, there may be instances of bots, inactive accounts, and alternate profiles present\n",
        "within the dataset.'''\n",
        "df_user_details = spark.read.csv(users_details_path, header=True, inferSchema=True)\n",
        "\n",
        "# -=-=-=-=-=-= Collumns =-=-=-=-=-=-=-=\n",
        "'''\n",
        "Mal ID\n",
        "Unique ID for each user.\n",
        "\n",
        "\n",
        "Username\n",
        "The username of the user.\n",
        "\n",
        "\n",
        "Gender\n",
        "The gender of the user.\n",
        "\n",
        "\n",
        "Birthday\n",
        "The birthday of the user (in ISO format).\n",
        "\n",
        "\n",
        "Location\n",
        "The location or country of the user.\n",
        "\n",
        "\n",
        "Joined\n",
        "The date when the user joined the platform (in ISO format).\n",
        "\n",
        "\n",
        "Days Watched\n",
        "The total number of days the user has spent watching anime.\n",
        "\n",
        "\n",
        "Mean Score\n",
        "The average score given by the user to the anime they have watched.\n",
        "\n",
        "\n",
        "Watching\n",
        "The number of anime currently being watched by the user.\n",
        "\n",
        "\n",
        "Completed\n",
        "The number of anime completed by the user.\n",
        "\n",
        "\n",
        "On Hold\n",
        "The number of anime on hold by the user.\n",
        "\n",
        "\n",
        "Dropped\n",
        "The number of anime dropped by the user.\n",
        "\n",
        "\n",
        "Plan to Watch\n",
        "The number of anime the user plans to watch in the future.\n",
        "\n",
        "\n",
        "Total Entries\n",
        "The total number of anime entries in the user's list.\n",
        "\n",
        "\n",
        "Rewatched\n",
        "The number of anime rewatched by the user.\n",
        "\n",
        "\n",
        "Episodes Watched\n",
        "The total number of episodes watched by the user.\n",
        "'''"
      ]
    },
    {
      "cell_type": "code",
      "execution_count": null,
      "metadata": {
        "id": "WsOTOakxEyYB",
        "colab": {
          "base_uri": "https://localhost:8080/",
          "height": 71
        },
        "outputId": "30b2ece8-1e98-4802-88fb-6864280d51e2"
      },
      "outputs": [
        {
          "output_type": "execute_result",
          "data": {
            "text/plain": [
              "'\\nuser_id\\nUnique ID for each user.\\n\\n\\nUsername\\nThe username of the user.\\n\\n\\nanime_id\\nUnique ID for each anime.\\n\\n\\nAnime Title\\nThe title of the anime.\\n\\n\\nrating\\nThe rating given by the user to the anime.\\n'"
            ],
            "application/vnd.google.colaboratory.intrinsic+json": {
              "type": "string"
            }
          },
          "metadata": {},
          "execution_count": 11
        }
      ],
      "source": [
        "'''This dataset comprises anime scores provided by 270,033 users, resulting in a total of 24,325,191 rows or samples.'''\n",
        "df_user_score = spark.read.csv(users_score_path, header=True, inferSchema=True)\n",
        "\n",
        "# -=-=-=-=-=-= Collumns =-=-=-=-=-=-=-=\n",
        "'''\n",
        "user_id\n",
        "Unique ID for each user.\n",
        "\n",
        "\n",
        "Username\n",
        "The username of the user.\n",
        "\n",
        "\n",
        "anime_id\n",
        "Unique ID for each anime.\n",
        "\n",
        "\n",
        "Anime Title\n",
        "The title of the anime.\n",
        "\n",
        "\n",
        "rating\n",
        "The rating given by the user to the anime.\n",
        "'''\n"
      ]
    },
    {
      "cell_type": "code",
      "execution_count": null,
      "metadata": {
        "id": "HVUqqsRPI1Y-",
        "colab": {
          "base_uri": "https://localhost:8080/"
        },
        "outputId": "913b2980-c62d-4c80-91cc-e236713baf5a"
      },
      "outputs": [
        {
          "output_type": "stream",
          "name": "stdout",
          "text": [
            "+--------------------+--------------------+--------------------+------------------------------+--------------------+--------------------+--------------------+--------------------+--------------------+--------------------+--------------------+--------------------+--------------------+--------------------+--------------------+--------------------+--------------------+--------------------+-----------+--------------------+---------+--------------------+--------------------+--------------------+\n",
            "|            anime_id|                Name|        English name|                    Other name|               Score|              Genres|            Synopsis|                Type|            Episodes|               Aired|           Premiered|              Status|           Producers|           Licensors|             Studios|              Source|            Duration|              Rating|       Rank|          Popularity|Favorites|           Scored By|             Members|           Image URL|\n",
            "+--------------------+--------------------+--------------------+------------------------------+--------------------+--------------------+--------------------+--------------------+--------------------+--------------------+--------------------+--------------------+--------------------+--------------------+--------------------+--------------------+--------------------+--------------------+-----------+--------------------+---------+--------------------+--------------------+--------------------+\n",
            "|                   1|        Cowboy Bebop|        Cowboy Bebop|            カウボーイビバップ|                8.75|Action, Award Win...|Crime is timeless...|                NULL|                NULL|                NULL|                NULL|                NULL|                NULL|                NULL|                NULL|                NULL|                NULL|                NULL|       NULL|                NULL|     NULL|                NULL|                NULL|                NULL|\n",
            "|Spike Spiegel and...| Spike is haunted...| Jet manages his ...|           their ship. The ...| odd child Edward...|             and Ein| a bioengineered ...|                NULL|                NULL|                NULL|                NULL|                NULL|                NULL|                NULL|                NULL|                NULL|                NULL|                NULL|       NULL|                NULL|     NULL|                NULL|                NULL|                NULL|\n",
            "|While developing ...| the Bebop crew's...| Spike must choos...|                            TV|                26.0|Apr 3, 1998 to Ap...|         spring 1998|     Finished Airing|       Bandai Visual|Funimation, Banda...|             Sunrise|            Original|       24 min per ep|R - 17+ (violence...|                41.0|                  43|               78525|            914193.0|    1771505|https://cdn.myani...|     NULL|                NULL|                NULL|                NULL|\n",
            "|                   5|Cowboy Bebop: Ten...|Cowboy Bebop: The...|   カウボーイビバップ 天国の扉|                8.38|      Action, Sci-Fi|Another day, anot...|                NULL|                NULL|                NULL|                NULL|                NULL|                NULL|                NULL|                NULL|                NULL|                NULL|                NULL|       NULL|                NULL|     NULL|                NULL|                NULL|                NULL|\n",
            "|With lives at sta...| the Bebop crew s...|                 Jet|                          Faye|          and Edward| followed closely...| split up to purs...| they discover a ...| revealing a plot...|               Movie|                 1.0|         Sep 1, 2001|             UNKNOWN|     Finished Airing|Sunrise, Bandai V...|Sony Pictures Ent...|               Bones|            Original|1 hr 55 min|R - 17+ (violence...|    189.0|                 602|                1448|            206248.0|\n",
            "|                   6|              Trigun|              Trigun|                    トライガン|                8.22|Action, Adventure...|\"Vash the Stamped...| and anyone can c...| Vash is a huge s...|                NULL|                NULL|                NULL|                NULL|                NULL|                NULL|                NULL|                NULL|                NULL|       NULL|                NULL|     NULL|                NULL|                NULL|                NULL|\n",
            "|With his crazy do...| Vash traverses t...| all the while fo...|           Meryl Stryfe and...| who attempt to m...| their misadventu...|                  TV|                26.0|Apr 1, 1998 to Se...|         spring 1998|     Finished Airing|Victor Entertainment|Funimation, Geneo...|            Madhouse|               Manga|       24 min per ep|PG-13 - Teens 13 ...|               328.0|        246|               15035| 356739.0|              727252|https://cdn.myani...|                NULL|\n",
            "|                   7|  Witch Hunter Robin|  Witch Hunter Robin|          Witch Hunter ROBI...|                7.25|Action, Drama, My...|Robin Sena is a p...|                NULL|                NULL|                NULL|                NULL|                NULL|                NULL|                NULL|                NULL|                NULL|                NULL|                NULL|       NULL|                NULL|     NULL|                NULL|                NULL|                NULL|\n",
            "|(Source: Funimati...|                  TV|                26.0|          Jul 3, 2002 to De...|         summer 2002|     Finished Airing|Bandai Visual, De...|Funimation, Banda...|             Sunrise|            Original|       25 min per ep|PG-13 - Teens 13 ...|              2764.0|                1795|                 613|             42829.0|              111931|https://cdn.myani...|       NULL|                NULL|     NULL|                NULL|                NULL|                NULL|\n",
            "|                   8|      Bouken Ou Beet|Beet the Vandel B...|                  冒険王ビィト|                6.94|Adventure, Fantas...|It is the dark ce...|                  TV|                52.0|Sep 30, 2004 to S...|           fall 2004|     Finished Airing|    TV Tokyo, Dentsu|Illumitoon Entert...|      Toei Animation|               Manga|       23 min per ep|       PG - Children|     4240.0|                5126|       14|              6413.0|               15001|https://cdn.myani...|\n",
            "|                  15|        Eyeshield 21|             UNKNOWN|                アイシールド21|                7.92|              Sports|Shy, reserved, an...|                NULL|                NULL|                NULL|                NULL|                NULL|                NULL|                NULL|                NULL|                NULL|                NULL|                NULL|       NULL|                NULL|     NULL|                NULL|                NULL|                NULL|\n",
            "|As Hiruma wants t...| Sena is forced t...|\"\" a mysterious r...|                          NULL|                NULL|                NULL|                NULL|                NULL|                NULL|                NULL|                NULL|                NULL|                NULL|                NULL|                NULL|                NULL|                NULL|                NULL|       NULL|                NULL|     NULL|                NULL|                NULL|                NULL|\n",
            "|Accustomed to avo...| Sena's specialty...| Sena gradually g...|                            TV|               145.0|Apr 6, 2005 to Ma...|         spring 2005|     Finished Airing|TV Tokyo, Nihon A...|VIZ Media, Sentai...|              Gallop|               Manga|       23 min per ep|PG-13 - Teens 13 ...|               688.0|                1252|                1997|             86524.0|     177688|https://cdn.myani...|     NULL|                NULL|                NULL|                NULL|\n",
            "|                  16|Hachimitsu to Clover|    Honey and Clover|          ハチミツとクローバー|                 8.0|Comedy, Drama, Ro...|Yuuta Takemoto, a...|                NULL|                NULL|                NULL|                NULL|                NULL|                NULL|                NULL|                NULL|                NULL|                NULL|                NULL|       NULL|                NULL|     NULL|                NULL|                NULL|                NULL|\n",
            "|Takemoto had not ...| when he meets th...| Hagumi enrolls i...|                          NULL|                NULL|                NULL|                NULL|                NULL|                NULL|                NULL|                NULL|                NULL|                NULL|                NULL|                NULL|                NULL|                NULL|                NULL|       NULL|                NULL|     NULL|                NULL|                NULL|                NULL|\n",
            "|Hachimitsu to Clo...|                love|      soul-searching|            and self-discovery| intricately wove...|                  TV|                24.0|Apr 15, 2005 to S...|         spring 2005|     Finished Airing|Dentsu, Genco, Fu...|VIZ Media, Discot...|           J.C.Staff|               Manga|       23 min per ep|PG-13 - Teens 13 ...|               589.0|                 862|       4136|             81747.0|   260166|https://cdn.myani...|                NULL|                NULL|\n",
            "|                  17|Hungry Heart: Wil...|             UNKNOWN|  ハングリーハート Wild Str...|                7.55|Comedy, Slice of ...|As the younger br...|                NULL|                NULL|                NULL|                NULL|                NULL|                NULL|                NULL|                NULL|                NULL|                NULL|                NULL|       NULL|                NULL|     NULL|                NULL|                NULL|                NULL|\n",
            "|Entering his fres...| Kyousuke vows ne...|      Miki Tsujiwaki|           the captain of t...|     and Mori Kazuto| the manager of t...| recognize Kyousu...|                NULL|                NULL|                NULL|                NULL|                NULL|                NULL|                NULL|                NULL|                NULL|                NULL|                NULL|       NULL|                NULL|     NULL|                NULL|                NULL|                NULL|\n",
            "|With an opportuni...| Kyousuke must ei...| or allow himself...|                            TV|                52.0|Sep 11, 2002 to S...|           fall 2002|     Finished Airing|             UNKNOWN|             UNKNOWN|    Nippon Animation|               Manga|       23 min per ep|PG-13 - Teens 13 ...|              1551.0|                4212|                 237|             12960.0|      24172|https://cdn.myani...|     NULL|                NULL|                NULL|                NULL|\n",
            "|                  18|Initial D Fourth ...|             UNKNOWN|頭文字〈イニシャル〉D FOURT...|                8.16|       Action, Drama|\"Takumi Fujiwara ...|\"\" while Keisuke ...| Ryousuke creates...|                NULL|                NULL|                NULL|                NULL|                NULL|                NULL|                NULL|                NULL|                NULL|       NULL|                NULL|     NULL|                NULL|                NULL|                NULL|\n",
            "+--------------------+--------------------+--------------------+------------------------------+--------------------+--------------------+--------------------+--------------------+--------------------+--------------------+--------------------+--------------------+--------------------+--------------------+--------------------+--------------------+--------------------+--------------------+-----------+--------------------+---------+--------------------+--------------------+--------------------+\n",
            "only showing top 20 rows\n",
            "\n",
            "+--------+--------------------+-----+--------------------+--------------------+------------------------------+--------------------+--------------------+--------------------+--------------------+--------------------+--------------------+--------------------+--------------------+--------------------+--------------------+--------------------+--------------------+--------------------+--------------------+--------------------+--------------------+---------------+--------------------+--------------------+\n",
            "|anime_id|                Name|Score|              Genres|        English name|                 Japanese name|           sypnopsis|                Type|            Episodes|               Aired|           Premiered|           Producers|           Licensors|             Studios|              Source|            Duration|              Rating|              Ranked|          Popularity|             Members|           Favorites|            Watching|      Completed|             On-Hold|             Dropped|\n",
            "+--------+--------------------+-----+--------------------+--------------------+------------------------------+--------------------+--------------------+--------------------+--------------------+--------------------+--------------------+--------------------+--------------------+--------------------+--------------------+--------------------+--------------------+--------------------+--------------------+--------------------+--------------------+---------------+--------------------+--------------------+\n",
            "|       1|        Cowboy Bebop| 8.78|Action, Adventure...|        Cowboy Bebop|            カウボーイビバップ|\"In the year 2071...| pragmatic partne...| a genetically en...| highly intellige...| an enigmatic tri...| Cowboy Bebop is ...|                  TV|                  26|Apr 3, 1998 to Ap...|         Spring 1998|       Bandai Visual|Funimation, Banda...|             Sunrise|            Original|     24 min. per ep.|R - 17+ (violence...|           28.0|                  39|             1251960|\n",
            "|       5|Cowboy Bebop: Ten...| 8.39|Action, Drama, My...|Cowboy Bebop:The ...|   カウボーイビバップ 天国の扉|other day, anothe...|               Movie|                   1|         Sep 1, 2001|             Unknown|Sunrise, Bandai V...|Sony Pictures Ent...|               Bones|            Original|       1 hr. 55 min.|R - 17+ (violence...|               159.0|                 518|              273145|                1174|                4143|         208333|                1935|                 770|\n",
            "|       6|              Trigun| 8.24|Action, Sci-Fi, A...|              Trigun|                    トライガン|\"Vash the Stamped...| and anyone can c...| Vash is a huge s...| Vash traverses t...| all the while fo...| Meryl Stryfe and...| who attempt to m...| their misadventu...|                  TV|                  26|Apr 1, 1998 to Se...|         Spring 1998|Victor Entertainment|Funimation, Geneo...|            Madhouse|               Manga|24 min. per ep.|PG-13 - Teens 13 ...|               266.0|\n",
            "|       7|  Witch Hunter Robin| 7.27|Action, Mystery, ...|  Witch Hunter Robin|          Witch Hunter ROBI...|ches are individu...|                  TV|                  26|Jul 2, 2002 to De...|         Summer 2002|TV Tokyo, Bandai ...|Funimation, Banda...|             Sunrise|            Original|     25 min. per ep.|PG-13 - Teens 13 ...|              2481.0|                1467|               94683|                 587|                4300|          46165|                5121|                5378|\n",
            "|       8|      Bouken Ou Beet| 6.98|Adventure, Fantas...|Beet the Vandel B...|                  冒険王ビィト|It is the dark ce...|                  TV|                  52|Sep 30, 2004 to S...|           Fall 2004|    TV Tokyo, Dentsu|             Unknown|      Toei Animation|               Manga|     23 min. per ep.|       PG - Children|              3710.0|                4369|               13224|                  18|                 642|           7314|                 766|                1108|\n",
            "|      15|        Eyeshield 21| 7.95|Action, Sports, C...|             Unknown|                アイシールド21|\"Sena is like any...|\"\" giving him a v...| an annual tourna...| with \"\"Eyeshield...| undersized fresh...|                  TV|                 145|Apr 6, 2005 to Ma...|         Spring 2005|TV Tokyo, Nihon A...|VIZ Media, Sentai...|              Gallop|               Manga|     23 min. per ep.|PG-13 - Teens 13 ...|               604.0|           1003|              148259|                2066|\n",
            "|      16|Hachimitsu to Clover| 8.06|Comedy, Drama, Jo...|    Honey and Clover|          ハチミツとクローバー|Yuuta Takemoto, a...|                  TV|                  24|Apr 15, 2005 to S...|         Spring 2005|Genco, Fuji TV, S...|VIZ Media, Discot...|           J.C.Staff|               Manga|     23 min. per ep.|PG-13 - Teens 13 ...|               468.0|                 687|              214499|                4101|               11909|          81145|               11901|               11026|\n",
            "|      17|Hungry Heart: Wil...| 7.59|Slice of Life, Co...|             Unknown|  ハングリーハート Wild Str...|Kyosuke Kano has ...|                  TV|                  52|Sep 11, 2002 to S...|           Fall 2002|             Unknown|             Unknown|    Nippon Animation|               Manga|     23 min. per ep.|PG-13 - Teens 13 ...|              1317.0|                3612|               20470|                 231|                 817|          13778|                 828|                1168|\n",
            "|      18|Initial D Fourth ...| 8.15|Action, Cars, Spo...|             Unknown|頭文字〈イニシャル〉D FOURT...|\"Takumi Fujiwara ...|\"\" while Keisuke ...| Ryousuke creates...|                  TV|                  24|Apr 17, 2004 to F...|         Spring 2004|OB Planning, Stud...|          Funimation|            A.C.G.T.|               Manga|     27 min. per ep.|PG-13 - Teens 13 ...|               360.0|                1233|              117929|            979|                6082|               90967|\n",
            "|      19|             Monster| 8.76|Drama, Horror, My...|             Monster|                    モンスター|Dr. Kenzou Tenma,...|                  TV|                  74|Apr 7, 2004 to Se...|         Spring 2004|VAP, Shogakukan-S...|           VIZ Media|            Madhouse|               Manga|     24 min. per ep.|    R+ - Mild Nudity|                30.0|                 169|              614100|               29436|               64648|         214491|               47488|               23008|\n",
            "|      20|              Naruto| 7.91|Action, Adventure...|              Naruto|                        ナルト|oments prior to N...|                  TV|                 220|Oct 3, 2002 to Fe...|           Fall 2002|TV Tokyo, Aniplex...|           VIZ Media|      Studio Pierrot|               Manga|     23 min. per ep.|PG-13 - Teens 13 ...|               660.0|                   8|             1830540|               65586|              137167|        1462223|               61734|               99806|\n",
            "|      21|           One Piece| 8.52|Action, Adventure...|           One Piece|                     ONE PIECE|\"Gol D. Roger was...|\"\" the strongest ...| One Piece. It wa...| men who dreamed ...| a 17-year-old bo...|            hardened| toothless pirate...| Luffy's reason f...| the promised tre...| Luffy and his cr...| experiencing cra...| unveiling dark m...| all in order to ...|                  TV|             Unknown|   Oct 20, 1999 to ?|      Fall 1999|Fuji TV, TAP, Shu...|Funimation, 4Kids...|\n",
            "|      22| Tennis no Ouji-sama|  7.9|Action, Comedy, S...|The Prince of Tennis|                テニスの王子様|The world of tenn...|                  TV|                 178|Oct 10, 2001 to M...|           Fall 2001|Production I.G, N...|           VIZ Media|          Trans Arts|               Manga|     22 min. per ep.|PG-13 - Teens 13 ...|               675.0|                1039|              141832|                3124|               11235|          76881|               12905|               12516|\n",
            "|      23|    Ring ni Kakero 1| 6.38|Action, Shounen, ...|             Unknown|              リングにかけろ１|In order to fulfi...|                  TV|                  12|Oct 6, 2004 to De...|           Fall 2004|             Unknown|             Unknown|      Toei Animation|               Manga|     25 min. per ep.|       PG - Children|              6493.0|                7333|                3648|                  16|                 170|           1333|                 145|                 296|\n",
            "|      24|       School Rumble| 7.94|Comedy, Romance, ...|       School Rumble|              スクールランブル|\"Just the words \"...|\"\" and everything...|       a second year| is on a quest to...| a delinquent wit...| is in a similar ...| as he cannot pro...|             friends|           rivalries|         and hobbies| these two will f...| especially as mi...| as Tenma and Ken...|                  TV|                  26|Oct 5, 2004 to Ma...|      Fall 2004|TV Tokyo, Sotsu, ...|          Funimation|\n",
            "|      25|           Sunabouzu| 7.42|Action, Adventure...|         Desert Punk|                      砂ぼうず|\"The Great Kanto ...|   \"\" or Desert Punk| who has forged a...| no matter the na...| he has become a ...| the \"\"Vixen of t...|    \"\" Junko Asagiri| discovers that S...| Sunabouzu featur...| they have not le...|                  TV|                  24|Oct 6, 2004 to Ma...|           Fall 2004|GDH, Pony Canyon,...|          Funimation|          Gonzo|               Manga|     24 min. per ep.|\n",
            "|      26|          Texhnolyze| 7.76|Action, Sci-Fi, P...|          Texhnolyze|                    TEXHNOLYZE|\"Texhnolyze takes...| a group of \"\"pro...| the Salvation Union| a populist group...|           and Racan| a collection of ...| a fight promoter...| Ichise is found ...| who uses him as ...| Ichise begins to...| the leader of Or...|                 Ran| who has the powe...| they soon realiz...| and that they ma...|                  TV|             22|Apr 17, 2003 to S...|         Spring 2003|\n",
            "|      27|       Trinity Blood| 7.32|Action, Supernatu...|       Trinity Blood|          トリニティ・ブラッド|Following Armaged...|                  TV|                  24|Apr 29, 2005 to O...|         Spring 2005|             Unknown|          Funimation|               Gonzo|         Light novel|     24 min. per ep.|R - 17+ (violence...|              2240.0|                 936|              158343|                1479|                7794|          87958|                8940|                9349|\n",
            "|      28|    Yakitate!! Japan| 7.95|     Comedy, Shounen|    Yakitate!! Japan|           焼きたて!! ジャぱん|hile countries su...|                  TV|                  69|Oct 12, 2004 to M...|           Fall 2004|TV Tokyo, Aniplex...|Nozomi Entertainment|             Sunrise|               Manga|     24 min. per ep.|PG-13 - Teens 13 ...|               609.0|                1666|               80183|                 887|                5007|          39992|                5764|                4633|\n",
            "|      29|              Zipang| 7.51|Action, Military,...|             Unknown|                      ジパング|ai, an improved K...|                  TV|                  26|Oct 8, 2004 to Ap...|           Fall 2004|      Marvelous, TBS|Geneon Entertainm...|         Studio Deen|               Manga|     24 min. per ep.|PG-13 - Teens 13 ...|              1565.0|                3985|               16652|                 152|                 857|           6807|                 721|                 599|\n",
            "+--------+--------------------+-----+--------------------+--------------------+------------------------------+--------------------+--------------------+--------------------+--------------------+--------------------+--------------------+--------------------+--------------------+--------------------+--------------------+--------------------+--------------------+--------------------+--------------------+--------------------+--------------------+---------------+--------------------+--------------------+\n",
            "only showing top 20 rows\n",
            "\n",
            "+--------+--------+--------+-------+------+--------------------+----+------------+-----+---------+------+----------+--------------------+\n",
            "|username|anime_id|my_score|user_id|gender|               title|type|      source|score|scored_by|  rank|popularity|               genre|\n",
            "+--------+--------+--------+-------+------+--------------------+----+------------+-----+---------+------+----------+--------------------+\n",
            "|karthiga|      21|       9|2255153|Female|           One Piece|  TV|       Manga| 8.54| 423868.0|  91.0|      35.0|Action, Adventure...|\n",
            "|karthiga|      59|       7|2255153|Female|             Chobits|  TV|       Manga| 7.53| 175388.0|1546.0|     188.0|Sci-Fi, Comedy, D...|\n",
            "|karthiga|      74|       7|2255153|Female|        Gakuen Alice|  TV|       Manga| 7.77|  33244.0| 941.0|    1291.0|Comedy, School, S...|\n",
            "|karthiga|     120|       7|2255153|Female|       Fruits Basket|  TV|       Manga| 7.77| 167968.0| 939.0|     222.0|Slice of Life, Co...|\n",
            "|karthiga|     178|       7|2255153|Female|        Ultra Maniac|  TV|       Manga| 7.26|   9663.0|2594.0|    2490.0|Magic, Comedy, Ro...|\n",
            "|karthiga|     210|       7|2255153|Female|             Ranma ½|  TV|       Manga| 7.85|  59911.0| 802.0|     623.0|Slice of Life, Co...|\n",
            "|karthiga|     232|       6|2255153|Female|   Cardcaptor Sakura|  TV|       Manga| 8.21| 121898.0| 297.0|     292.0|Adventure, Comedy...|\n",
            "|karthiga|     233|       6|2255153|Female|      Daa! Daa! Daa!|  TV|       Manga| 7.78|   6598.0| 919.0|    3045.0|Comedy, Sci-Fi, S...|\n",
            "|karthiga|     249|       8|2255153|Female|            InuYasha|  TV|       Manga|  7.9| 181978.0| 697.0|     141.0|Action, Adventure...|\n",
            "|karthiga|     269|      10|2255153|Female|              Bleach|  TV|       Manga|  7.9| 433097.0| 693.0|      18.0|Action, Adventure...|\n",
            "|karthiga|     721|       7|2255153|Female|       Princess Tutu|  TV|    Original| 8.21|  36501.0| 307.0|     916.0|Comedy, Drama, Ma...|\n",
            "|karthiga|     853|       7|2255153|Female|Ouran Koukou Host...|  TV|       Manga| 8.34| 335137.0| 205.0|      69.0|Comedy, Harem, Ro...|\n",
            "|karthiga|     857|      10|2255153|Female|            Air Gear|  TV|       Manga| 7.64| 126326.0|1233.0|     297.0|Action, Comedy, E...|\n",
            "|karthiga|     957|       8|2255153|Female|Saiunkoku Monogatari|  TV| Light novel| 8.04|  23467.0| 512.0|    1313.0|Adventure, Fantas...|\n",
            "|karthiga|     966|      10|2255153|Female|    Crayon Shin-chan|  TV|       Manga| 7.73|  17683.0|1032.0|    1937.0|Slice of Life, Co...|\n",
            "|karthiga|    1557|       8|2255153|Female|    Shounen Onmyouji|  TV| Light novel| 7.68|  14619.0|1158.0|    1793.0|Action, Magic, Fa...|\n",
            "|karthiga|    1571|       8|2255153|Female|          Ghost Hunt|  TV|       Novel| 7.92|  69224.0| 656.0|     527.0|Comedy, Horror, M...|\n",
            "|karthiga|    1579|       9|2255153|Female|Kiniro no Corda: ...|  TV|Visual novel| 7.63|  36820.0|1273.0|    1138.0|Comedy, Drama, Ha...|\n",
            "|karthiga|    1698|       7|2255153|Female|    Nodame Cantabile|  TV|       Manga| 8.41|  87363.0| 163.0|     381.0|Music, Slice of L...|\n",
            "|karthiga|    1735|       9|2255153|Female|  Naruto: Shippuuden|  TV|       Manga| 8.18| 385179.0| 337.0|      20.0|Action, Adventure...|\n",
            "+--------+--------+--------+-------+------+--------------------+----+------------+-----+---------+------+----------+--------------------+\n",
            "only showing top 20 rows\n",
            "\n",
            "+-------+--------+------+\n",
            "|user_id|anime_id|rating|\n",
            "+-------+--------+------+\n",
            "|      0|      67|     9|\n",
            "|      0|    6702|     7|\n",
            "|      0|     242|    10|\n",
            "|      0|    4898|     0|\n",
            "|      0|      21|    10|\n",
            "|      0|      24|     9|\n",
            "|      0|    2104|     0|\n",
            "|      0|    4722|     8|\n",
            "|      0|    6098|     6|\n",
            "|      0|    3125|     9|\n",
            "|      0|     481|    10|\n",
            "|      0|      68|     6|\n",
            "|      0|    1689|     6|\n",
            "|      0|    2913|     6|\n",
            "|      0|    1250|     7|\n",
            "|      0|     356|     9|\n",
            "|      0|     121|     9|\n",
            "|      0|     430|     9|\n",
            "|      0|    1829|     7|\n",
            "|      0|    1571|    10|\n",
            "+-------+--------+------+\n",
            "only showing top 20 rows\n",
            "\n",
            "+------+---------------+------+-------------------+--------------------+--------------------+------------+----------+--------+---------+-------+-------+-------------+-------------+---------+----------------+\n",
            "|Mal ID|       Username|Gender|           Birthday|            Location|              Joined|Days Watched|Mean Score|Watching|Completed|On Hold|Dropped|Plan to Watch|Total Entries|Rewatched|Episodes Watched|\n",
            "+------+---------------+------+-------------------+--------------------+--------------------+------------+----------+--------+---------+-------+-------+-------------+-------------+---------+----------------+\n",
            "|     1|          Xinil|  Male|1985-03-04 00:00:00|          California|2004-11-05T00:00:...|       142.3|      7.37|     1.0|    233.0|    8.0|   93.0|         64.0|        399.0|     60.0|          8458.0|\n",
            "|     3|        Aokaado|  Male|               NULL|        Oslo, Norway|2004-11-11T00:00:...|        68.6|      7.34|    23.0|    137.0|   99.0|   44.0|         40.0|        343.0|     15.0|          4072.0|\n",
            "|     4|        Crystal|Female|               NULL|Melbourne, Australia|2004-11-13T00:00:...|       212.8|      6.68|    16.0|    636.0|  303.0|    0.0|         45.0|       1000.0|     10.0|         12781.0|\n",
            "|     9|         Arcane|  NULL|               NULL|                NULL|2004-12-05T00:00:...|        30.0|      7.71|     5.0|     54.0|    4.0|    3.0|          0.0|         66.0|      0.0|          1817.0|\n",
            "|    18|            Mad|  NULL|               NULL|                NULL|2005-01-03T00:00:...|        52.0|      6.27|     1.0|    114.0|   10.0|    5.0|         23.0|        153.0|     42.0|          3038.0|\n",
            "|    20|         vondur|  Male|1988-01-25 00:00:00|      Bergen, Norway|2005-01-05T00:00:...|        73.1|      8.06|    11.0|     94.0|   11.0|    2.0|         20.0|        138.0|      7.0|          4374.0|\n",
            "|    23|          Amuro|  NULL|1988-02-22 00:00:00|              Canada|2005-01-23T00:00:...|       142.5|      7.41|    20.0|    298.0|    5.0|   19.0|         50.0|        392.0|      0.0|          8565.0|\n",
            "|    36|          Baman|  Male|               NULL|Land of Rain and ...|2005-02-05T00:00:...|       272.1|       5.9|    27.0|   1144.0|   11.0|   55.0|        338.0|       1575.0|     36.0|         16309.0|\n",
            "|    44|         beddan|  Male|               NULL|                NULL|2005-02-21T00:00:...|        18.6|       7.6|     0.0|     37.0|    0.0|    0.0|          0.0|         37.0|      0.0|          1083.0|\n",
            "|    47|      kei-clone|  Male|               NULL|31f288172a11dea9f...|2005-03-09T00:00:...|        34.5|      6.84|    15.0|    104.0|   22.0|    3.0|         19.0|        163.0|      1.0|          2054.0|\n",
            "|    53|     Ladholyman|  NULL|               NULL|                NULL|2005-03-19T00:00:...|        11.5|      9.24|     0.0|     51.0|    0.0|    0.0|          0.0|         51.0|      0.0|           693.0|\n",
            "|    66|         Hiromi|  Male|1990-02-09 00:00:00|         Calgary, AB|2005-04-01T00:00:...|        70.6|      7.53|    34.0|    148.0|   13.0|    6.0|         10.0|        211.0|     50.0|          4117.0|\n",
            "|    70|         Cruzle|  Male|1983-11-09 00:00:00|                NULL|2005-04-14T00:00:...|        78.0|      7.18|    30.0|    135.0|    9.0|    8.0|         22.0|        204.0|     15.0|          4694.0|\n",
            "|    71|          Smoka|  NULL|               NULL|                NULL|2005-04-21T00:00:...|        22.9|      8.01|     2.0|     67.0|   11.0|    0.0|          0.0|         80.0|      0.0|          1295.0|\n",
            "|    77|            Emp|Female|               NULL|                NULL|2005-04-26T00:00:...|        67.5|      6.38|    13.0|    297.0|    0.0|    0.0|          2.0|        312.0|      0.0|          3955.0|\n",
            "|    80|      koalatees|  NULL|1991-10-24 00:00:00|                NULL|2005-04-27T00:00:...|        12.2|       7.1|     4.0|     31.0|    0.0|   41.0|          0.0|         76.0|      0.0|           744.0|\n",
            "|    82|         Achtor|  Male|1989-06-10 00:00:00|       Paris, France|2005-04-29T00:00:...|        47.0|      7.17|     6.0|    153.0|   36.0|   20.0|        101.0|        316.0|      0.0|          2922.0|\n",
            "|    83|         jaames|  Male|               NULL| Seattle, Washington|2005-04-30T00:00:...|        12.5|      8.71|     3.0|     16.0|    0.0|    0.0|          0.0|         19.0|      0.0|           745.0|\n",
            "|    90|           xich|Female|               NULL|                NULL|2005-05-10T00:00:...|        58.8|      8.29|     2.0|    122.0|    7.0|   53.0|          9.0|        193.0|      5.0|          3557.0|\n",
            "|    91|marvin_9martian|Female|               NULL|              Canada|2005-05-10T00:00:...|        36.4|      6.66|     4.0|     57.0|    4.0|   31.0|         29.0|        125.0|      1.0|          2187.0|\n",
            "+------+---------------+------+-------------------+--------------------+--------------------+------------+----------+--------+---------+-------+-------+-------------+-------------+---------+----------------+\n",
            "only showing top 20 rows\n",
            "\n",
            "+-------+--------+--------+--------------------+------+\n",
            "|user_id|Username|anime_id|         Anime Title|rating|\n",
            "+-------+--------+--------+--------------------+------+\n",
            "|      1|   Xinil|      21|           One Piece|     9|\n",
            "|      1|   Xinil|      48|         .hack//Sign|     7|\n",
            "|      1|   Xinil|     320|              A Kite|     5|\n",
            "|      1|   Xinil|      49|    Aa! Megami-sama!|     8|\n",
            "|      1|   Xinil|     304|Aa! Megami-sama! ...|     8|\n",
            "|      1|   Xinil|     306|Abenobashi Mahou☆...|     8|\n",
            "|      1|   Xinil|      53|       Ai Yori Aoshi|     7|\n",
            "|      1|   Xinil|      47|               Akira|     5|\n",
            "|      1|   Xinil|     591|      Amaenaide yo!!|     6|\n",
            "|      1|   Xinil|      54|   Appleseed (Movie)|     7|\n",
            "|      1|   Xinil|      55|         Arc the Lad|     5|\n",
            "|      1|   Xinil|      56|             Avenger|     6|\n",
            "|      1|   Xinil|      57|                Beck|     9|\n",
            "|      1|   Xinil|     368|         Bible Black|     5|\n",
            "|      1|   Xinil|      68|      Black Cat (TV)|     7|\n",
            "|      1|   Xinil|     889|        Black Lagoon|     9|\n",
            "|      1|   Xinil|    1519|Black Lagoon: The...|     7|\n",
            "|      1|   Xinil|      58|         Blue Gender|     8|\n",
            "|      1|   Xinil|    1222|       Bokura ga Ita|     7|\n",
            "|      1|   Xinil|     458|       Buttobi!! CPU|     4|\n",
            "+-------+--------+--------+--------------------+------+\n",
            "only showing top 20 rows\n",
            "\n"
          ]
        }
      ],
      "source": [
        "df_anime.show()\n",
        "df_filtered.show()\n",
        "df_final.show()\n",
        "df_user_filtered.show()\n",
        "df_user_details.show()\n",
        "df_user_score.show()"
      ]
    },
    {
      "cell_type": "code",
      "execution_count": null,
      "metadata": {
        "id": "DiXEE8M1h7PY"
      },
      "outputs": [],
      "source": [
        "def spark_shape(df):\n",
        "  return (df.count(), len(df.columns))"
      ]
    },
    {
      "cell_type": "code",
      "execution_count": null,
      "metadata": {
        "id": "3daU9Wtuz0c0",
        "colab": {
          "base_uri": "https://localhost:8080/"
        },
        "outputId": "7069b7e8-93f9-4712-98e7-6a561feebe89"
      },
      "outputs": [
        {
          "output_type": "stream",
          "name": "stdout",
          "text": [
            "Shape of df_anime: (40779, 24)\n",
            "Shape of df_filtered: (14952, 25)\n",
            "Shape of df_final: (35305695, 13)\n",
            "Shape of df_user_filtered: (109224747, 3)\n",
            "Shape of df_user_details: (731290, 16)\n",
            "Shape of df_user_score: (24325191, 5)\n"
          ]
        }
      ],
      "source": [
        "for name_df , df in zip([\"df_anime\", \"df_filtered\", \"df_final\", \"df_user_filtered\", \"df_user_details\", \"df_user_score\"],[df_anime, df_filtered, df_final, df_user_filtered, df_user_details, df_user_score]):\n",
        "  shape = spark_shape(df)\n",
        "  print(f\"Shape of {name_df}: {shape}\")"
      ]
    },
    {
      "cell_type": "code",
      "execution_count": null,
      "metadata": {
        "id": "9oQ_gBsJ09DT",
        "colab": {
          "base_uri": "https://localhost:8080/"
        },
        "outputId": "beff350d-1dcc-4da2-8d88-1d24c750b025"
      },
      "outputs": [
        {
          "output_type": "stream",
          "name": "stdout",
          "text": [
            "\n",
            "df_anime Total of null values by collumn\n",
            "+--------+----+------------+----------+-----+------+--------+-----+--------+-----+---------+------+---------+---------+-------+------+--------+------+-----+----------+---------+---------+-------+---------+\n",
            "|anime_id|Name|English name|Other name|Score|Genres|Synopsis| Type|Episodes|Aired|Premiered|Status|Producers|Licensors|Studios|Source|Duration|Rating| Rank|Popularity|Favorites|Scored By|Members|Image URL|\n",
            "+--------+----+------------+----------+-----+------+--------+-----+--------+-----+---------+------+---------+---------+-------+------+--------+------+-----+----------+---------+---------+-------+---------+\n",
            "|       0|1297|        2040|      2725| 3400|  3962|    4396|13804|   14475|14927|    15234| 15452|    15579|    15699|  15761| 15796|   15830| 15844|22805|     23665|    24376|    25001|  25534|    25947|\n",
            "+--------+----+------------+----------+-----+------+--------+-----+--------+-----+---------+------+---------+---------+-------+------+--------+------+-----+----------+---------+---------+-------+---------+\n",
            "\n",
            "\n",
            "df_filtered Total of null values by collumn\n",
            "+--------+----+-----+------+------------+-------------+---------+----+--------+-----+---------+---------+---------+-------+------+--------+------+------+----------+-------+---------+--------+---------+-------+-------+\n",
            "|anime_id|Name|Score|Genres|English name|Japanese name|sypnopsis|Type|Episodes|Aired|Premiered|Producers|Licensors|Studios|Source|Duration|Rating|Ranked|Popularity|Members|Favorites|Watching|Completed|On-Hold|Dropped|\n",
            "+--------+----+-----+------+------------+-------------+---------+----+--------+-----+---------+---------+---------+-------+------+--------+------+------+----------+-------+---------+--------+---------+-------+-------+\n",
            "|       0|   0|    0|     0|           0|            0|     1349|   1|       0|    0|        0|        0|        0|      0|     0|       0|     0|  1647|        10|     10|       13|      10|        6|      6|      6|\n",
            "+--------+----+-----+------+------------+-------------+---------+----+--------+-----+---------+---------+---------+-------+------+--------+------+------+----------+-------+---------+--------+---------+-------+-------+\n",
            "\n",
            "\n",
            "df_final Total of null values by collumn\n",
            "+--------+--------+--------+-------+------+-----+----+------+-----+---------+------+----------+-----+\n",
            "|username|anime_id|my_score|user_id|gender|title|type|source|score|scored_by|  rank|popularity|genre|\n",
            "+--------+--------+--------+-------+------+-----+----+------+-----+---------+------+----------+-----+\n",
            "|     256|       0|       0|      0|     0|    0|   0|     0|    0|        0|751600|       370| 2267|\n",
            "+--------+--------+--------+-------+------+-----+----+------+-----+---------+------+----------+-----+\n",
            "\n",
            "\n",
            "df_user_filtered Total of null values by collumn\n",
            "+-------+--------+------+\n",
            "|user_id|anime_id|rating|\n",
            "+-------+--------+------+\n",
            "|      0|       0|     0|\n",
            "+-------+--------+------+\n",
            "\n",
            "\n",
            "df_user_details Total of null values by collumn\n",
            "+------+--------+------+--------+--------+------+------------+----------+--------+---------+-------+-------+-------------+-------------+---------+----------------+\n",
            "|Mal ID|Username|Gender|Birthday|Location|Joined|Days Watched|Mean Score|Watching|Completed|On Hold|Dropped|Plan to Watch|Total Entries|Rewatched|Episodes Watched|\n",
            "+------+--------+------+--------+--------+------+------------+----------+--------+---------+-------+-------+-------------+-------------+---------+----------------+\n",
            "|     0|       0|506907|  563222|  578484|     0|           8|         8|       8|        8|      8|      8|            8|            8|        8|               8|\n",
            "+------+--------+------+--------+--------+------+------------+----------+--------+---------+-------+-------+-------------+-------------+---------+----------------+\n",
            "\n",
            "\n",
            "df_user_score Total of null values by collumn\n",
            "+-------+--------+--------+-----------+------+\n",
            "|user_id|Username|anime_id|Anime Title|rating|\n",
            "+-------+--------+--------+-----------+------+\n",
            "|      0|       0|       0|          0|     0|\n",
            "+-------+--------+--------+-----------+------+\n",
            "\n"
          ]
        }
      ],
      "source": [
        "#Count Nulls\n",
        "\n",
        "def count_nulls(name_df, df):\n",
        "  null_counts = df.select([count(when(col(c).isNull(), c)).alias(c) for c in df.columns])\n",
        "  print(f\"\\n{name_df} Total of null values by collumn\")\n",
        "  null_counts.show()\n",
        "\n",
        "for name_df , df in zip([\"df_anime\", \"df_filtered\", \"df_final\", \"df_user_filtered\", \"df_user_details\", \"df_user_score\"],[df_anime, df_filtered, df_final, df_user_filtered, df_user_details, df_user_score]):\n",
        "  nulls = count_nulls(name_df, df)\n"
      ]
    },
    {
      "cell_type": "code",
      "execution_count": null,
      "metadata": {
        "id": "QSgpsri432pL",
        "colab": {
          "base_uri": "https://localhost:8080/"
        },
        "outputId": "a3451186-1aff-4cbe-b33b-0af0837555e9"
      },
      "outputs": [
        {
          "output_type": "stream",
          "name": "stdout",
          "text": [
            "[('anime_id', 'string'), ('Name', 'string'), ('English name', 'string'), ('Other name', 'string'), ('Score', 'string'), ('Genres', 'string'), ('Synopsis', 'string'), ('Type', 'string'), ('Episodes', 'string'), ('Aired', 'string'), ('Premiered', 'string'), ('Status', 'string'), ('Producers', 'string'), ('Licensors', 'string'), ('Studios', 'string'), ('Source', 'string'), ('Duration', 'string'), ('Rating', 'string'), ('Rank', 'string'), ('Popularity', 'string'), ('Favorites', 'string'), ('Scored By', 'string'), ('Members', 'string'), ('Image URL', 'string')]\n"
          ]
        }
      ],
      "source": [
        "#Features Types\n",
        "\n",
        "def get_dtype(df):\n",
        "  return df.dtypes\n",
        "\n",
        "tp = get_dtype(df_anime)\n",
        "print(tp)"
      ]
    },
    {
      "cell_type": "markdown",
      "metadata": {
        "id": "NxNX1qWMIyOJ"
      },
      "source": [
        "### Com base nas informações obtidas, iremos trabalhar com o arquivo 'final_animedataset.csv', que contempla os valores de ranqueamento dos animes fornecidos pelos usuarios. Outro ponto referente a escolha desse dataset é por conter mais de 4GB de dados."
      ]
    },
    {
      "cell_type": "code",
      "execution_count": null,
      "metadata": {
        "id": "IkckRnKtM-Yb",
        "colab": {
          "base_uri": "https://localhost:8080/"
        },
        "outputId": "226ca649-4f7b-4570-fc4e-3a5fcc927759"
      },
      "outputs": [
        {
          "output_type": "stream",
          "name": "stdout",
          "text": [
            "+--------+--------+--------+-------+------+--------------------+----+------------+-----+---------+------+----------+--------------------+\n",
            "|username|anime_id|my_score|user_id|gender|               title|type|      source|score|scored_by|  rank|popularity|               genre|\n",
            "+--------+--------+--------+-------+------+--------------------+----+------------+-----+---------+------+----------+--------------------+\n",
            "|karthiga|      21|       9|2255153|Female|           One Piece|  TV|       Manga| 8.54| 423868.0|  91.0|      35.0|Action, Adventure...|\n",
            "|karthiga|      59|       7|2255153|Female|             Chobits|  TV|       Manga| 7.53| 175388.0|1546.0|     188.0|Sci-Fi, Comedy, D...|\n",
            "|karthiga|      74|       7|2255153|Female|        Gakuen Alice|  TV|       Manga| 7.77|  33244.0| 941.0|    1291.0|Comedy, School, S...|\n",
            "|karthiga|     120|       7|2255153|Female|       Fruits Basket|  TV|       Manga| 7.77| 167968.0| 939.0|     222.0|Slice of Life, Co...|\n",
            "|karthiga|     178|       7|2255153|Female|        Ultra Maniac|  TV|       Manga| 7.26|   9663.0|2594.0|    2490.0|Magic, Comedy, Ro...|\n",
            "|karthiga|     210|       7|2255153|Female|             Ranma ½|  TV|       Manga| 7.85|  59911.0| 802.0|     623.0|Slice of Life, Co...|\n",
            "|karthiga|     232|       6|2255153|Female|   Cardcaptor Sakura|  TV|       Manga| 8.21| 121898.0| 297.0|     292.0|Adventure, Comedy...|\n",
            "|karthiga|     233|       6|2255153|Female|      Daa! Daa! Daa!|  TV|       Manga| 7.78|   6598.0| 919.0|    3045.0|Comedy, Sci-Fi, S...|\n",
            "|karthiga|     249|       8|2255153|Female|            InuYasha|  TV|       Manga|  7.9| 181978.0| 697.0|     141.0|Action, Adventure...|\n",
            "|karthiga|     269|      10|2255153|Female|              Bleach|  TV|       Manga|  7.9| 433097.0| 693.0|      18.0|Action, Adventure...|\n",
            "|karthiga|     721|       7|2255153|Female|       Princess Tutu|  TV|    Original| 8.21|  36501.0| 307.0|     916.0|Comedy, Drama, Ma...|\n",
            "|karthiga|     853|       7|2255153|Female|Ouran Koukou Host...|  TV|       Manga| 8.34| 335137.0| 205.0|      69.0|Comedy, Harem, Ro...|\n",
            "|karthiga|     857|      10|2255153|Female|            Air Gear|  TV|       Manga| 7.64| 126326.0|1233.0|     297.0|Action, Comedy, E...|\n",
            "|karthiga|     957|       8|2255153|Female|Saiunkoku Monogatari|  TV| Light novel| 8.04|  23467.0| 512.0|    1313.0|Adventure, Fantas...|\n",
            "|karthiga|     966|      10|2255153|Female|    Crayon Shin-chan|  TV|       Manga| 7.73|  17683.0|1032.0|    1937.0|Slice of Life, Co...|\n",
            "|karthiga|    1557|       8|2255153|Female|    Shounen Onmyouji|  TV| Light novel| 7.68|  14619.0|1158.0|    1793.0|Action, Magic, Fa...|\n",
            "|karthiga|    1571|       8|2255153|Female|          Ghost Hunt|  TV|       Novel| 7.92|  69224.0| 656.0|     527.0|Comedy, Horror, M...|\n",
            "|karthiga|    1579|       9|2255153|Female|Kiniro no Corda: ...|  TV|Visual novel| 7.63|  36820.0|1273.0|    1138.0|Comedy, Drama, Ha...|\n",
            "|karthiga|    1698|       7|2255153|Female|    Nodame Cantabile|  TV|       Manga| 8.41|  87363.0| 163.0|     381.0|Music, Slice of L...|\n",
            "|karthiga|    1735|       9|2255153|Female|  Naruto: Shippuuden|  TV|       Manga| 8.18| 385179.0| 337.0|      20.0|Action, Adventure...|\n",
            "+--------+--------+--------+-------+------+--------------------+----+------------+-----+---------+------+----------+--------------------+\n",
            "only showing top 20 rows\n",
            "\n"
          ]
        }
      ],
      "source": [
        "df = df_final\n",
        "df.show()"
      ]
    },
    {
      "cell_type": "code",
      "execution_count": null,
      "metadata": {
        "id": "filDIU5dNBIx",
        "colab": {
          "base_uri": "https://localhost:8080/"
        },
        "outputId": "1670b4ae-282c-4178-bf30-398ca7a89cb4"
      },
      "outputs": [
        {
          "output_type": "stream",
          "name": "stdout",
          "text": [
            "[('username', 'string'), ('anime_id', 'int'), ('my_score', 'int'), ('user_id', 'int'), ('gender', 'string'), ('title', 'string'), ('type', 'string'), ('source', 'string'), ('score', 'string'), ('scored_by', 'double'), ('rank', 'double'), ('popularity', 'double'), ('genre', 'string')]\n"
          ]
        }
      ],
      "source": [
        "collumns_types = get_dtype(df)\n",
        "print(collumns_types)"
      ]
    },
    {
      "cell_type": "code",
      "execution_count": null,
      "metadata": {
        "id": "dSqlLIYKPeK3"
      },
      "outputs": [],
      "source": [
        "# df = df.drop('username','user_id')\n",
        "# df.show()"
      ]
    },
    {
      "cell_type": "code",
      "execution_count": null,
      "metadata": {
        "id": "78LKpmcCNZ3A",
        "colab": {
          "base_uri": "https://localhost:8080/"
        },
        "outputId": "623a80fe-d461-440e-8a5d-c5a7eabc4b40"
      },
      "outputs": [
        {
          "output_type": "stream",
          "name": "stdout",
          "text": [
            "+--------------------+--------+\n",
            "|                type|   count|\n",
            "+--------------------+--------+\n",
            "|                  TV|23696077|\n",
            "|           Igi Ari!\"|    7790|\n",
            "| Doushite Konna O...|     370|\n",
            "|             Special| 2576837|\n",
            "|                 OVA| 3952868|\n",
            "|               Music|  176054|\n",
            "|               Movie| 4270626|\n",
            "|                 ONA|  625073|\n",
            "+--------------------+--------+\n",
            "\n"
          ]
        }
      ],
      "source": [
        "df.groupBy('type').count().show()"
      ]
    },
    {
      "cell_type": "code",
      "execution_count": null,
      "metadata": {
        "id": "-63PityePTMl",
        "colab": {
          "base_uri": "https://localhost:8080/"
        },
        "outputId": "a8743402-845f-40be-81a9-958f356cac1c"
      },
      "outputs": [
        {
          "output_type": "stream",
          "name": "stdout",
          "text": [
            "+----------+-----+\n",
            "|    gender|count|\n",
            "+----------+-----+\n",
            "|    Female|39993|\n",
            "|Non-Binary|  598|\n",
            "|      Male|75534|\n",
            "+----------+-----+\n",
            "\n"
          ]
        }
      ],
      "source": [
        "unique_gender_distribution = df.dropDuplicates(['user_id']).groupBy('gender').count()\n",
        "unique_gender_distribution.show()"
      ]
    },
    {
      "cell_type": "markdown",
      "source": [],
      "metadata": {
        "id": "zurUoRz81Txr"
      }
    },
    {
      "cell_type": "code",
      "source": [
        "# Plot distribution of gender\n",
        "\n",
        "unique_gender = {row['gender']: row['count'] for row in unique_gender_distribution.collect()}\n",
        "unique_gender = OrderedDict(sorted(unique_gender.items(), key=lambda x: x[1], reverse=True))\n",
        "\n",
        "print(unique_gender)\n",
        "\n",
        "unique_labels = unique_gender.keys()\n",
        "unique_values = unique_gender.values()\n",
        "\n",
        "\n",
        "fig, ax = plt.subplots(figsize=(6, 6), subplot_kw=dict(aspect=\"equal\"))\n",
        "wedges, texts, autotexts = ax.pie(unique_values, labels=unique_labels, autopct=lambda pct: f' {int(round(pct/100.*sum(unique_values)))} \\n {pct:.1f}% ', textprops=dict(color=\"w\"))\n",
        "\n",
        "ax.legend(wedges, unique_labels, title=\"Gender\", loc=\"center left\", bbox_to_anchor=(1, 0, 0.5, 1))\n",
        "plt.setp(autotexts, size=8, weight=\"bold\")\n",
        "ax.set_title('Unique Gender Distribution')\n",
        "\n",
        "plt.tight_layout()\n",
        "plt.show()"
      ],
      "metadata": {
        "colab": {
          "base_uri": "https://localhost:8080/",
          "height": 515
        },
        "id": "K4cFrsBm4Z3r",
        "outputId": "a3fb5c78-fa06-48f2-fb27-80cbef406f8c"
      },
      "execution_count": null,
      "outputs": [
        {
          "output_type": "stream",
          "name": "stdout",
          "text": [
            "OrderedDict([('Male', 75534), ('Female', 39993), ('Non-Binary', 598)])\n"
          ]
        },
        {
          "output_type": "display_data",
          "data": {
            "text/plain": [
              "<Figure size 600x600 with 1 Axes>"
            ],
            "image/png": "[encoded data removed]"
          },
          "metadata": {}
        }
      ]
    },
    {
      "cell_type": "code",
      "source": [
        "all_gender_distribution = df.groupBy('gender').count()\n",
        "all_gender_distribution.show()"
      ],
      "metadata": {
        "colab": {
          "base_uri": "https://localhost:8080/"
        },
        "id": "iDostW0h86t1",
        "outputId": "3f7a7f64-3325-4ac0-e626-94d7ab3af3f8"
      },
      "execution_count": null,
      "outputs": [
        {
          "output_type": "stream",
          "name": "stdout",
          "text": [
            "+----------+--------+\n",
            "|    gender|   count|\n",
            "+----------+--------+\n",
            "|    Female| 9678908|\n",
            "|Non-Binary|  240434|\n",
            "|      Male|25386353|\n",
            "+----------+--------+\n",
            "\n"
          ]
        }
      ]
    },
    {
      "cell_type": "code",
      "source": [
        "all_gender = {row['gender']: row['count'] for row in all_gender_distribution.collect()}\n",
        "all_gender = OrderedDict(sorted(all_gender.items(), key=lambda x: x[1], reverse=True))\n",
        "\n",
        "print(all_gender)\n",
        "\n",
        "all_labels = all_gender.keys()\n",
        "all_values = all_gender.values()\n",
        "\n",
        "\n",
        "fig, ax = plt.subplots(figsize=(6, 6), subplot_kw=dict(aspect=\"equal\"))\n",
        "wedges, texts, autotexts = ax.pie(all_values, labels=all_labels, autopct=lambda pct: f' {int(round(pct/100.*sum(all_values)))} \\n {pct:.1f}% ', textprops=dict(color=\"w\"))\n",
        "\n",
        "ax.legend(wedges, all_labels, title=\"Gender\", loc=\"center left\", bbox_to_anchor=(1, 0, 0.5, 1))\n",
        "plt.setp(autotexts, size=8, weight=\"bold\")\n",
        "ax.set_title('All Gender Distribution')\n",
        "\n",
        "plt.tight_layout()\n",
        "plt.show()"
      ],
      "metadata": {
        "colab": {
          "base_uri": "https://localhost:8080/",
          "height": 515
        },
        "id": "On0_ZvUj4yAH",
        "outputId": "51aace53-dda4-4324-a50e-0c81ba790af4"
      },
      "execution_count": null,
      "outputs": [
        {
          "output_type": "stream",
          "name": "stdout",
          "text": [
            "OrderedDict([('Male', 25386353), ('Female', 9678908), ('Non-Binary', 240434)])\n"
          ]
        },
        {
          "output_type": "display_data",
          "data": {
            "text/plain": [
              "<Figure size 600x600 with 1 Axes>"
            ],
            "image/png": "[encoded data removed]"
          },
          "metadata": {}
        }
      ]
    },
    {
      "cell_type": "code",
      "source": [],
      "metadata": {
        "id": "2cMpfmEZ8PgT"
      },
      "execution_count": null,
      "outputs": []
    }
  ],
  "metadata": {
    "colab": {
      "provenance": [],
      "gpuType": "T4",
      "authorship_tag": "ABX9TyNNk8qROTCkh0paPu7T+vI7",
      "include_colab_link": true
    },
    "kernelspec": {
      "display_name": "Python 3",
      "name": "python3"
    },
    "language_info": {
      "name": "python"
    },
    "accelerator": "GPU"
  },
  "nbformat": 4,
  "nbformat_minor": 0
}